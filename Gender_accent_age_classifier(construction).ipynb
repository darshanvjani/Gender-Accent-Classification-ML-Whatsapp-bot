{
  "nbformat": 4,
  "nbformat_minor": 0,
  "metadata": {
    "kernelspec": {
      "display_name": "Python 3",
      "language": "python",
      "name": "python3"
    },
    "language_info": {
      "codemirror_mode": {
        "name": "ipython",
        "version": 3
      },
      "file_extension": ".py",
      "mimetype": "text/x-python",
      "name": "python",
      "nbconvert_exporter": "python",
      "pygments_lexer": "ipython3",
      "version": "3.7.3"
    },
    "colab": {
      "name": "Gender_accent_age_classifier(construction).ipynb",
      "provenance": [],
      "collapsed_sections": []
    }
  },
  "cells": [
    {
      "cell_type": "code",
      "metadata": {
        "id": "sb5q1IdrAWVj",
        "colab_type": "code",
        "colab": {}
      },
      "source": [
        "import pandas as pd\n",
        "import numpy as np"
      ],
      "execution_count": 1,
      "outputs": []
    },
    {
      "cell_type": "code",
      "metadata": {
        "id": "IDtDkOC1AWVo",
        "colab_type": "code",
        "colab": {
          "base_uri": "https://localhost:8080/",
          "height": 231
        },
        "outputId": "a1637d46-aa51-4824-d9cb-126fbcaa754c"
      },
      "source": [
        "df = pd.read_csv('myData_filtered.csv')\n",
        "df.head()"
      ],
      "execution_count": 2,
      "outputs": [
        {
          "output_type": "execute_result",
          "data": {
            "text/html": [
              "<div>\n",
              "<style scoped>\n",
              "    .dataframe tbody tr th:only-of-type {\n",
              "        vertical-align: middle;\n",
              "    }\n",
              "\n",
              "    .dataframe tbody tr th {\n",
              "        vertical-align: top;\n",
              "    }\n",
              "\n",
              "    .dataframe thead th {\n",
              "        text-align: right;\n",
              "    }\n",
              "</style>\n",
              "<table border=\"1\" class=\"dataframe\">\n",
              "  <thead>\n",
              "    <tr style=\"text-align: right;\">\n",
              "      <th></th>\n",
              "      <th>Unnamed: 0</th>\n",
              "      <th>nobs</th>\n",
              "      <th>mean</th>\n",
              "      <th>skew</th>\n",
              "      <th>kurtosis</th>\n",
              "      <th>median</th>\n",
              "      <th>mode</th>\n",
              "      <th>std</th>\n",
              "      <th>low</th>\n",
              "      <th>peak</th>\n",
              "      <th>q25</th>\n",
              "      <th>q75</th>\n",
              "      <th>iqr</th>\n",
              "      <th>user_name</th>\n",
              "      <th>sample_date</th>\n",
              "      <th>age_range</th>\n",
              "      <th>pronunciation</th>\n",
              "      <th>gender</th>\n",
              "    </tr>\n",
              "  </thead>\n",
              "  <tbody>\n",
              "    <tr>\n",
              "      <th>0</th>\n",
              "      <td>0</td>\n",
              "      <td>85</td>\n",
              "      <td>148.411765</td>\n",
              "      <td>-0.170872</td>\n",
              "      <td>-1.218425</td>\n",
              "      <td>140.0</td>\n",
              "      <td>90.0</td>\n",
              "      <td>67.576587</td>\n",
              "      <td>25.0</td>\n",
              "      <td>260.0</td>\n",
              "      <td>90.0</td>\n",
              "      <td>205.0</td>\n",
              "      <td>115.0</td>\n",
              "      <td>1028</td>\n",
              "      <td>20100710</td>\n",
              "      <td>Adult</td>\n",
              "      <td>American</td>\n",
              "      <td>Male</td>\n",
              "    </tr>\n",
              "    <tr>\n",
              "      <th>1</th>\n",
              "      <td>1</td>\n",
              "      <td>103</td>\n",
              "      <td>186.116505</td>\n",
              "      <td>-1.241716</td>\n",
              "      <td>0.065125</td>\n",
              "      <td>210.0</td>\n",
              "      <td>220.0</td>\n",
              "      <td>76.691071</td>\n",
              "      <td>25.0</td>\n",
              "      <td>270.0</td>\n",
              "      <td>185.0</td>\n",
              "      <td>232.5</td>\n",
              "      <td>47.5</td>\n",
              "      <td>1337ad</td>\n",
              "      <td>20170321</td>\n",
              "      <td>Adult</td>\n",
              "      <td>Other</td>\n",
              "      <td>Female</td>\n",
              "    </tr>\n",
              "    <tr>\n",
              "      <th>2</th>\n",
              "      <td>2</td>\n",
              "      <td>117</td>\n",
              "      <td>192.350427</td>\n",
              "      <td>-1.402413</td>\n",
              "      <td>0.727092</td>\n",
              "      <td>210.0</td>\n",
              "      <td>200.0</td>\n",
              "      <td>67.433325</td>\n",
              "      <td>25.0</td>\n",
              "      <td>265.0</td>\n",
              "      <td>190.0</td>\n",
              "      <td>235.0</td>\n",
              "      <td>45.0</td>\n",
              "      <td>1337ad</td>\n",
              "      <td>20170321</td>\n",
              "      <td>Adult</td>\n",
              "      <td>Other</td>\n",
              "      <td>Female</td>\n",
              "    </tr>\n",
              "    <tr>\n",
              "      <th>3</th>\n",
              "      <td>3</td>\n",
              "      <td>119</td>\n",
              "      <td>157.661064</td>\n",
              "      <td>-0.532878</td>\n",
              "      <td>-1.508620</td>\n",
              "      <td>205.0</td>\n",
              "      <td>30.0</td>\n",
              "      <td>92.220587</td>\n",
              "      <td>25.0</td>\n",
              "      <td>270.0</td>\n",
              "      <td>40.0</td>\n",
              "      <td>227.5</td>\n",
              "      <td>187.5</td>\n",
              "      <td>1337ad</td>\n",
              "      <td>20170321</td>\n",
              "      <td>Unknown</td>\n",
              "      <td>Other</td>\n",
              "      <td>not_specified</td>\n",
              "    </tr>\n",
              "    <tr>\n",
              "      <th>4</th>\n",
              "      <td>4</td>\n",
              "      <td>34</td>\n",
              "      <td>159.558824</td>\n",
              "      <td>-0.893693</td>\n",
              "      <td>-0.636448</td>\n",
              "      <td>185.0</td>\n",
              "      <td>25.0</td>\n",
              "      <td>73.748057</td>\n",
              "      <td>25.0</td>\n",
              "      <td>245.0</td>\n",
              "      <td>122.5</td>\n",
              "      <td>215.0</td>\n",
              "      <td>92.5</td>\n",
              "      <td>1snoke</td>\n",
              "      <td>20120412</td>\n",
              "      <td>Adult</td>\n",
              "      <td>American</td>\n",
              "      <td>Male</td>\n",
              "    </tr>\n",
              "  </tbody>\n",
              "</table>\n",
              "</div>"
            ],
            "text/plain": [
              "   Unnamed: 0  nobs        mean  ...  age_range  pronunciation         gender\n",
              "0           0    85  148.411765  ...      Adult       American           Male\n",
              "1           1   103  186.116505  ...      Adult          Other         Female\n",
              "2           2   117  192.350427  ...      Adult          Other         Female\n",
              "3           3   119  157.661064  ...    Unknown          Other  not_specified\n",
              "4           4    34  159.558824  ...      Adult       American           Male\n",
              "\n",
              "[5 rows x 18 columns]"
            ]
          },
          "metadata": {
            "tags": []
          },
          "execution_count": 2
        }
      ]
    },
    {
      "cell_type": "code",
      "metadata": {
        "id": "74MdNJ1HAWVs",
        "colab_type": "code",
        "colab": {
          "base_uri": "https://localhost:8080/",
          "height": 88
        },
        "outputId": "a1dcd022-ad80-4b41-bc4e-a5d30f40d06f"
      },
      "source": [
        "pd.value_counts(df.gender)\n"
      ],
      "execution_count": 3,
      "outputs": [
        {
          "output_type": "execute_result",
          "data": {
            "text/plain": [
              "Male             4725\n",
              "Female            379\n",
              "not_specified      58\n",
              "Name: gender, dtype: int64"
            ]
          },
          "metadata": {
            "tags": []
          },
          "execution_count": 3
        }
      ]
    },
    {
      "cell_type": "code",
      "metadata": {
        "id": "PA2D4UgAAWVv",
        "colab_type": "code",
        "colab": {}
      },
      "source": [
        "temp_df = df[df.gender != 'not_specified']"
      ],
      "execution_count": 4,
      "outputs": []
    },
    {
      "cell_type": "code",
      "metadata": {
        "id": "3_aP207VAWVy",
        "colab_type": "code",
        "colab": {
          "base_uri": "https://localhost:8080/",
          "height": 70
        },
        "outputId": "565458dc-ab7d-4e8c-d17a-56d261b23fac"
      },
      "source": [
        "pd.value_counts(temp_df.gender)\n"
      ],
      "execution_count": 5,
      "outputs": [
        {
          "output_type": "execute_result",
          "data": {
            "text/plain": [
              "Male      4725\n",
              "Female     379\n",
              "Name: gender, dtype: int64"
            ]
          },
          "metadata": {
            "tags": []
          },
          "execution_count": 5
        }
      ]
    },
    {
      "cell_type": "code",
      "metadata": {
        "id": "YRB5hPMAAWV1",
        "colab_type": "code",
        "colab": {
          "base_uri": "https://localhost:8080/",
          "height": 141
        },
        "outputId": "b1cb082f-df7d-4969-9500-1f21cbf619b2"
      },
      "source": [
        "pd.value_counts(temp_df.pronunciation)"
      ],
      "execution_count": 6,
      "outputs": [
        {
          "output_type": "execute_result",
          "data": {
            "text/plain": [
              "American      2454\n",
              "Other          890\n",
              "European       713\n",
              "British        684\n",
              "Indian         213\n",
              "Australian     150\n",
              "Name: pronunciation, dtype: int64"
            ]
          },
          "metadata": {
            "tags": []
          },
          "execution_count": 6
        }
      ]
    },
    {
      "cell_type": "code",
      "metadata": {
        "id": "er3Vg1PpAWV4",
        "colab_type": "code",
        "colab": {
          "base_uri": "https://localhost:8080/",
          "height": 106
        },
        "outputId": "c9bd916c-5b8b-4c8c-c3ea-1ab5b384a2ea"
      },
      "source": [
        "pd.value_counts(temp_df.age_range)"
      ],
      "execution_count": 7,
      "outputs": [
        {
          "output_type": "execute_result",
          "data": {
            "text/plain": [
              "Adult      4196\n",
              "Youth       586\n",
              "Unknown     210\n",
              "Senior      112\n",
              "Name: age_range, dtype: int64"
            ]
          },
          "metadata": {
            "tags": []
          },
          "execution_count": 7
        }
      ]
    },
    {
      "cell_type": "code",
      "metadata": {
        "id": "V6IkFq3IAWV7",
        "colab_type": "code",
        "colab": {}
      },
      "source": [
        "temp_df_1 = temp_df[temp_df.age_range != 'Unknown']"
      ],
      "execution_count": 8,
      "outputs": []
    },
    {
      "cell_type": "code",
      "metadata": {
        "id": "eMpi6oj_40Vt",
        "colab_type": "code",
        "colab": {}
      },
      "source": [
        "temp_df_1 = temp_df_1[temp_df_1.age_range != 'Senior']"
      ],
      "execution_count": 9,
      "outputs": []
    },
    {
      "cell_type": "code",
      "metadata": {
        "id": "cVSmdPFNAWV9",
        "colab_type": "code",
        "colab": {
          "base_uri": "https://localhost:8080/",
          "height": 70
        },
        "outputId": "9114103e-8482-4924-be11-fe313377e9af"
      },
      "source": [
        "pd.value_counts(temp_df_1.age_range)"
      ],
      "execution_count": 10,
      "outputs": [
        {
          "output_type": "execute_result",
          "data": {
            "text/plain": [
              "Adult    4196\n",
              "Youth     586\n",
              "Name: age_range, dtype: int64"
            ]
          },
          "metadata": {
            "tags": []
          },
          "execution_count": 10
        }
      ]
    },
    {
      "cell_type": "code",
      "metadata": {
        "id": "l4hiH0VvAWWA",
        "colab_type": "code",
        "colab": {
          "base_uri": "https://localhost:8080/",
          "height": 35
        },
        "outputId": "96b0b5c6-b91b-4dc6-d33b-cc00b424edaf"
      },
      "source": [
        "temp_df_1.shape"
      ],
      "execution_count": 11,
      "outputs": [
        {
          "output_type": "execute_result",
          "data": {
            "text/plain": [
              "(4782, 18)"
            ]
          },
          "metadata": {
            "tags": []
          },
          "execution_count": 11
        }
      ]
    },
    {
      "cell_type": "code",
      "metadata": {
        "id": "zfUKbhQkAWWD",
        "colab_type": "code",
        "colab": {}
      },
      "source": [
        "temp_df_1.drop(['Unnamed: 0'],inplace=True,axis=1)"
      ],
      "execution_count": 12,
      "outputs": []
    },
    {
      "cell_type": "code",
      "metadata": {
        "id": "xBQIacigAWWI",
        "colab_type": "code",
        "colab": {
          "base_uri": "https://localhost:8080/",
          "height": 487
        },
        "outputId": "75acd1ef-f75d-48f6-f3e3-ee432bd634a2"
      },
      "source": [
        "temp_df_1.head(15)"
      ],
      "execution_count": 13,
      "outputs": [
        {
          "output_type": "execute_result",
          "data": {
            "text/html": [
              "<div>\n",
              "<style scoped>\n",
              "    .dataframe tbody tr th:only-of-type {\n",
              "        vertical-align: middle;\n",
              "    }\n",
              "\n",
              "    .dataframe tbody tr th {\n",
              "        vertical-align: top;\n",
              "    }\n",
              "\n",
              "    .dataframe thead th {\n",
              "        text-align: right;\n",
              "    }\n",
              "</style>\n",
              "<table border=\"1\" class=\"dataframe\">\n",
              "  <thead>\n",
              "    <tr style=\"text-align: right;\">\n",
              "      <th></th>\n",
              "      <th>nobs</th>\n",
              "      <th>mean</th>\n",
              "      <th>skew</th>\n",
              "      <th>kurtosis</th>\n",
              "      <th>median</th>\n",
              "      <th>mode</th>\n",
              "      <th>std</th>\n",
              "      <th>low</th>\n",
              "      <th>peak</th>\n",
              "      <th>q25</th>\n",
              "      <th>q75</th>\n",
              "      <th>iqr</th>\n",
              "      <th>user_name</th>\n",
              "      <th>sample_date</th>\n",
              "      <th>age_range</th>\n",
              "      <th>pronunciation</th>\n",
              "      <th>gender</th>\n",
              "    </tr>\n",
              "  </thead>\n",
              "  <tbody>\n",
              "    <tr>\n",
              "      <th>0</th>\n",
              "      <td>85</td>\n",
              "      <td>148.411765</td>\n",
              "      <td>-0.170872</td>\n",
              "      <td>-1.218425</td>\n",
              "      <td>140.0</td>\n",
              "      <td>90.0</td>\n",
              "      <td>67.576587</td>\n",
              "      <td>25.000000</td>\n",
              "      <td>260.0</td>\n",
              "      <td>90.00</td>\n",
              "      <td>205.0</td>\n",
              "      <td>115.00</td>\n",
              "      <td>1028</td>\n",
              "      <td>20100710</td>\n",
              "      <td>Adult</td>\n",
              "      <td>American</td>\n",
              "      <td>Male</td>\n",
              "    </tr>\n",
              "    <tr>\n",
              "      <th>1</th>\n",
              "      <td>103</td>\n",
              "      <td>186.116505</td>\n",
              "      <td>-1.241716</td>\n",
              "      <td>0.065125</td>\n",
              "      <td>210.0</td>\n",
              "      <td>220.0</td>\n",
              "      <td>76.691071</td>\n",
              "      <td>25.000000</td>\n",
              "      <td>270.0</td>\n",
              "      <td>185.00</td>\n",
              "      <td>232.5</td>\n",
              "      <td>47.50</td>\n",
              "      <td>1337ad</td>\n",
              "      <td>20170321</td>\n",
              "      <td>Adult</td>\n",
              "      <td>Other</td>\n",
              "      <td>Female</td>\n",
              "    </tr>\n",
              "    <tr>\n",
              "      <th>2</th>\n",
              "      <td>117</td>\n",
              "      <td>192.350427</td>\n",
              "      <td>-1.402413</td>\n",
              "      <td>0.727092</td>\n",
              "      <td>210.0</td>\n",
              "      <td>200.0</td>\n",
              "      <td>67.433325</td>\n",
              "      <td>25.000000</td>\n",
              "      <td>265.0</td>\n",
              "      <td>190.00</td>\n",
              "      <td>235.0</td>\n",
              "      <td>45.00</td>\n",
              "      <td>1337ad</td>\n",
              "      <td>20170321</td>\n",
              "      <td>Adult</td>\n",
              "      <td>Other</td>\n",
              "      <td>Female</td>\n",
              "    </tr>\n",
              "    <tr>\n",
              "      <th>4</th>\n",
              "      <td>34</td>\n",
              "      <td>159.558824</td>\n",
              "      <td>-0.893693</td>\n",
              "      <td>-0.636448</td>\n",
              "      <td>185.0</td>\n",
              "      <td>25.0</td>\n",
              "      <td>73.748057</td>\n",
              "      <td>25.000000</td>\n",
              "      <td>245.0</td>\n",
              "      <td>122.50</td>\n",
              "      <td>215.0</td>\n",
              "      <td>92.50</td>\n",
              "      <td>1snoke</td>\n",
              "      <td>20120412</td>\n",
              "      <td>Adult</td>\n",
              "      <td>American</td>\n",
              "      <td>Male</td>\n",
              "    </tr>\n",
              "    <tr>\n",
              "      <th>5</th>\n",
              "      <td>200</td>\n",
              "      <td>147.478333</td>\n",
              "      <td>0.266550</td>\n",
              "      <td>-1.097457</td>\n",
              "      <td>135.0</td>\n",
              "      <td>100.0</td>\n",
              "      <td>74.874091</td>\n",
              "      <td>25.000000</td>\n",
              "      <td>275.0</td>\n",
              "      <td>100.00</td>\n",
              "      <td>220.0</td>\n",
              "      <td>120.00</td>\n",
              "      <td>23yipikaye</td>\n",
              "      <td>20100807</td>\n",
              "      <td>Adult</td>\n",
              "      <td>Other</td>\n",
              "      <td>Male</td>\n",
              "    </tr>\n",
              "    <tr>\n",
              "      <th>6</th>\n",
              "      <td>84</td>\n",
              "      <td>149.869048</td>\n",
              "      <td>-0.150714</td>\n",
              "      <td>-1.130314</td>\n",
              "      <td>170.0</td>\n",
              "      <td>80.0</td>\n",
              "      <td>55.081061</td>\n",
              "      <td>24.000000</td>\n",
              "      <td>250.0</td>\n",
              "      <td>95.00</td>\n",
              "      <td>190.0</td>\n",
              "      <td>95.00</td>\n",
              "      <td>314piwm</td>\n",
              "      <td>20130617</td>\n",
              "      <td>Youth</td>\n",
              "      <td>American</td>\n",
              "      <td>Male</td>\n",
              "    </tr>\n",
              "    <tr>\n",
              "      <th>7</th>\n",
              "      <td>97</td>\n",
              "      <td>113.195876</td>\n",
              "      <td>0.209949</td>\n",
              "      <td>3.253056</td>\n",
              "      <td>120.0</td>\n",
              "      <td>130.0</td>\n",
              "      <td>43.696384</td>\n",
              "      <td>25.000000</td>\n",
              "      <td>265.0</td>\n",
              "      <td>110.00</td>\n",
              "      <td>130.0</td>\n",
              "      <td>20.00</td>\n",
              "      <td>AJN</td>\n",
              "      <td>20131002</td>\n",
              "      <td>Adult</td>\n",
              "      <td>Other</td>\n",
              "      <td>Male</td>\n",
              "    </tr>\n",
              "    <tr>\n",
              "      <th>8</th>\n",
              "      <td>83</td>\n",
              "      <td>117.650602</td>\n",
              "      <td>1.005635</td>\n",
              "      <td>0.975156</td>\n",
              "      <td>105.0</td>\n",
              "      <td>85.0</td>\n",
              "      <td>44.378828</td>\n",
              "      <td>25.000000</td>\n",
              "      <td>240.0</td>\n",
              "      <td>90.00</td>\n",
              "      <td>125.0</td>\n",
              "      <td>35.00</td>\n",
              "      <td>AT</td>\n",
              "      <td>20130718</td>\n",
              "      <td>Adult</td>\n",
              "      <td>British</td>\n",
              "      <td>Male</td>\n",
              "    </tr>\n",
              "    <tr>\n",
              "      <th>9</th>\n",
              "      <td>82</td>\n",
              "      <td>173.956520</td>\n",
              "      <td>-0.429759</td>\n",
              "      <td>-0.885734</td>\n",
              "      <td>205.0</td>\n",
              "      <td>120.0</td>\n",
              "      <td>56.458512</td>\n",
              "      <td>22.038567</td>\n",
              "      <td>265.0</td>\n",
              "      <td>120.00</td>\n",
              "      <td>220.0</td>\n",
              "      <td>100.00</td>\n",
              "      <td>Aaron</td>\n",
              "      <td>20080318</td>\n",
              "      <td>Adult</td>\n",
              "      <td>Other</td>\n",
              "      <td>Male</td>\n",
              "    </tr>\n",
              "    <tr>\n",
              "      <th>10</th>\n",
              "      <td>101</td>\n",
              "      <td>158.514851</td>\n",
              "      <td>0.190964</td>\n",
              "      <td>-0.997187</td>\n",
              "      <td>130.0</td>\n",
              "      <td>115.0</td>\n",
              "      <td>55.260609</td>\n",
              "      <td>25.000000</td>\n",
              "      <td>270.0</td>\n",
              "      <td>120.00</td>\n",
              "      <td>210.0</td>\n",
              "      <td>90.00</td>\n",
              "      <td>Aaron</td>\n",
              "      <td>20080318</td>\n",
              "      <td>Adult</td>\n",
              "      <td>Other</td>\n",
              "      <td>Male</td>\n",
              "    </tr>\n",
              "    <tr>\n",
              "      <th>11</th>\n",
              "      <td>85</td>\n",
              "      <td>163.285033</td>\n",
              "      <td>-0.572164</td>\n",
              "      <td>-0.252504</td>\n",
              "      <td>150.0</td>\n",
              "      <td>125.0</td>\n",
              "      <td>55.839584</td>\n",
              "      <td>25.000000</td>\n",
              "      <td>260.0</td>\n",
              "      <td>125.00</td>\n",
              "      <td>210.0</td>\n",
              "      <td>85.00</td>\n",
              "      <td>Aaron</td>\n",
              "      <td>20080318</td>\n",
              "      <td>Adult</td>\n",
              "      <td>Other</td>\n",
              "      <td>Male</td>\n",
              "    </tr>\n",
              "    <tr>\n",
              "      <th>12</th>\n",
              "      <td>90</td>\n",
              "      <td>183.612211</td>\n",
              "      <td>-1.079954</td>\n",
              "      <td>0.081907</td>\n",
              "      <td>215.0</td>\n",
              "      <td>220.0</td>\n",
              "      <td>69.843790</td>\n",
              "      <td>25.000000</td>\n",
              "      <td>270.0</td>\n",
              "      <td>126.25</td>\n",
              "      <td>230.0</td>\n",
              "      <td>103.75</td>\n",
              "      <td>Aaron</td>\n",
              "      <td>20080318</td>\n",
              "      <td>Adult</td>\n",
              "      <td>Other</td>\n",
              "      <td>Male</td>\n",
              "    </tr>\n",
              "    <tr>\n",
              "      <th>13</th>\n",
              "      <td>79</td>\n",
              "      <td>169.807169</td>\n",
              "      <td>0.238439</td>\n",
              "      <td>-1.521635</td>\n",
              "      <td>150.0</td>\n",
              "      <td>130.0</td>\n",
              "      <td>51.110022</td>\n",
              "      <td>74.766355</td>\n",
              "      <td>275.0</td>\n",
              "      <td>125.00</td>\n",
              "      <td>220.0</td>\n",
              "      <td>95.00</td>\n",
              "      <td>Aaron</td>\n",
              "      <td>20080318</td>\n",
              "      <td>Adult</td>\n",
              "      <td>Other</td>\n",
              "      <td>Male</td>\n",
              "    </tr>\n",
              "    <tr>\n",
              "      <th>14</th>\n",
              "      <td>92</td>\n",
              "      <td>170.108696</td>\n",
              "      <td>0.241070</td>\n",
              "      <td>-1.646882</td>\n",
              "      <td>145.0</td>\n",
              "      <td>115.0</td>\n",
              "      <td>51.935256</td>\n",
              "      <td>100.000000</td>\n",
              "      <td>260.0</td>\n",
              "      <td>120.00</td>\n",
              "      <td>230.0</td>\n",
              "      <td>110.00</td>\n",
              "      <td>Aaron</td>\n",
              "      <td>20080318</td>\n",
              "      <td>Adult</td>\n",
              "      <td>Other</td>\n",
              "      <td>Male</td>\n",
              "    </tr>\n",
              "    <tr>\n",
              "      <th>15</th>\n",
              "      <td>80</td>\n",
              "      <td>130.645833</td>\n",
              "      <td>0.183453</td>\n",
              "      <td>0.140090</td>\n",
              "      <td>130.0</td>\n",
              "      <td>120.0</td>\n",
              "      <td>60.296428</td>\n",
              "      <td>25.000000</td>\n",
              "      <td>270.0</td>\n",
              "      <td>120.00</td>\n",
              "      <td>150.0</td>\n",
              "      <td>30.00</td>\n",
              "      <td>AbdulMoiz</td>\n",
              "      <td>20121010</td>\n",
              "      <td>Youth</td>\n",
              "      <td>British</td>\n",
              "      <td>Male</td>\n",
              "    </tr>\n",
              "  </tbody>\n",
              "</table>\n",
              "</div>"
            ],
            "text/plain": [
              "    nobs        mean      skew  ...  age_range  pronunciation  gender\n",
              "0     85  148.411765 -0.170872  ...      Adult       American    Male\n",
              "1    103  186.116505 -1.241716  ...      Adult          Other  Female\n",
              "2    117  192.350427 -1.402413  ...      Adult          Other  Female\n",
              "4     34  159.558824 -0.893693  ...      Adult       American    Male\n",
              "5    200  147.478333  0.266550  ...      Adult          Other    Male\n",
              "6     84  149.869048 -0.150714  ...      Youth       American    Male\n",
              "7     97  113.195876  0.209949  ...      Adult          Other    Male\n",
              "8     83  117.650602  1.005635  ...      Adult        British    Male\n",
              "9     82  173.956520 -0.429759  ...      Adult          Other    Male\n",
              "10   101  158.514851  0.190964  ...      Adult          Other    Male\n",
              "11    85  163.285033 -0.572164  ...      Adult          Other    Male\n",
              "12    90  183.612211 -1.079954  ...      Adult          Other    Male\n",
              "13    79  169.807169  0.238439  ...      Adult          Other    Male\n",
              "14    92  170.108696  0.241070  ...      Adult          Other    Male\n",
              "15    80  130.645833  0.183453  ...      Youth        British    Male\n",
              "\n",
              "[15 rows x 17 columns]"
            ]
          },
          "metadata": {
            "tags": []
          },
          "execution_count": 13
        }
      ]
    },
    {
      "cell_type": "code",
      "metadata": {
        "id": "t6tSYOzYAWWK",
        "colab_type": "code",
        "colab": {
          "base_uri": "https://localhost:8080/",
          "height": 36
        },
        "outputId": "0ce303f5-85ba-48d4-e7a0-78eff1d4e06e"
      },
      "source": [
        "##CHECKPOINT-1##\n",
        "'''so the data labels are highly squeued at this point'''\n",
        "'''i will normalise it now and train the squeued data and see its accuracy'''\n",
        "'''if the accuracy is good then will leave it that way or we will use data augmentation to create new data'''"
      ],
      "execution_count": null,
      "outputs": [
        {
          "output_type": "execute_result",
          "data": {
            "application/vnd.google.colaboratory.intrinsic+json": {
              "type": "string"
            },
            "text/plain": [
              "'if the accuracy is good then will leave it that way or we will use data augmentation to create new data'"
            ]
          },
          "metadata": {
            "tags": []
          },
          "execution_count": 14
        }
      ]
    },
    {
      "cell_type": "code",
      "metadata": {
        "id": "vaFriNThAWWN",
        "colab_type": "code",
        "colab": {
          "base_uri": "https://localhost:8080/",
          "height": 337
        },
        "outputId": "7104ef9b-66b1-432b-d408-93fc85d36797"
      },
      "source": [
        "temp_df_1.isna().sum()"
      ],
      "execution_count": 14,
      "outputs": [
        {
          "output_type": "execute_result",
          "data": {
            "text/plain": [
              "nobs             0\n",
              "mean             0\n",
              "skew             0\n",
              "kurtosis         0\n",
              "median           0\n",
              "mode             0\n",
              "std              0\n",
              "low              0\n",
              "peak             0\n",
              "q25              0\n",
              "q75              0\n",
              "iqr              0\n",
              "user_name        2\n",
              "sample_date      0\n",
              "age_range        0\n",
              "pronunciation    0\n",
              "gender           0\n",
              "dtype: int64"
            ]
          },
          "metadata": {
            "tags": []
          },
          "execution_count": 14
        }
      ]
    },
    {
      "cell_type": "code",
      "metadata": {
        "id": "uBJ13Ip7AWWQ",
        "colab_type": "code",
        "colab": {}
      },
      "source": [
        "from sklearn.preprocessing import StandardScaler"
      ],
      "execution_count": 15,
      "outputs": []
    },
    {
      "cell_type": "code",
      "metadata": {
        "id": "zP0axej4AWWS",
        "colab_type": "code",
        "colab": {}
      },
      "source": [
        "features = temp_df_1.iloc[:,:-5]\n",
        "labels = temp_df_1.iloc[:,-1]"
      ],
      "execution_count": 16,
      "outputs": []
    },
    {
      "cell_type": "code",
      "metadata": {
        "id": "2DvI4MxhAWWU",
        "colab_type": "code",
        "colab": {
          "base_uri": "https://localhost:8080/",
          "height": 194
        },
        "outputId": "9e1258b6-ded1-4acb-a24a-e8ce02b6eec5"
      },
      "source": [
        "features.head()"
      ],
      "execution_count": 17,
      "outputs": [
        {
          "output_type": "execute_result",
          "data": {
            "text/html": [
              "<div>\n",
              "<style scoped>\n",
              "    .dataframe tbody tr th:only-of-type {\n",
              "        vertical-align: middle;\n",
              "    }\n",
              "\n",
              "    .dataframe tbody tr th {\n",
              "        vertical-align: top;\n",
              "    }\n",
              "\n",
              "    .dataframe thead th {\n",
              "        text-align: right;\n",
              "    }\n",
              "</style>\n",
              "<table border=\"1\" class=\"dataframe\">\n",
              "  <thead>\n",
              "    <tr style=\"text-align: right;\">\n",
              "      <th></th>\n",
              "      <th>nobs</th>\n",
              "      <th>mean</th>\n",
              "      <th>skew</th>\n",
              "      <th>kurtosis</th>\n",
              "      <th>median</th>\n",
              "      <th>mode</th>\n",
              "      <th>std</th>\n",
              "      <th>low</th>\n",
              "      <th>peak</th>\n",
              "      <th>q25</th>\n",
              "      <th>q75</th>\n",
              "      <th>iqr</th>\n",
              "    </tr>\n",
              "  </thead>\n",
              "  <tbody>\n",
              "    <tr>\n",
              "      <th>0</th>\n",
              "      <td>85</td>\n",
              "      <td>148.411765</td>\n",
              "      <td>-0.170872</td>\n",
              "      <td>-1.218425</td>\n",
              "      <td>140.0</td>\n",
              "      <td>90.0</td>\n",
              "      <td>67.576587</td>\n",
              "      <td>25.0</td>\n",
              "      <td>260.0</td>\n",
              "      <td>90.0</td>\n",
              "      <td>205.0</td>\n",
              "      <td>115.0</td>\n",
              "    </tr>\n",
              "    <tr>\n",
              "      <th>1</th>\n",
              "      <td>103</td>\n",
              "      <td>186.116505</td>\n",
              "      <td>-1.241716</td>\n",
              "      <td>0.065125</td>\n",
              "      <td>210.0</td>\n",
              "      <td>220.0</td>\n",
              "      <td>76.691071</td>\n",
              "      <td>25.0</td>\n",
              "      <td>270.0</td>\n",
              "      <td>185.0</td>\n",
              "      <td>232.5</td>\n",
              "      <td>47.5</td>\n",
              "    </tr>\n",
              "    <tr>\n",
              "      <th>2</th>\n",
              "      <td>117</td>\n",
              "      <td>192.350427</td>\n",
              "      <td>-1.402413</td>\n",
              "      <td>0.727092</td>\n",
              "      <td>210.0</td>\n",
              "      <td>200.0</td>\n",
              "      <td>67.433325</td>\n",
              "      <td>25.0</td>\n",
              "      <td>265.0</td>\n",
              "      <td>190.0</td>\n",
              "      <td>235.0</td>\n",
              "      <td>45.0</td>\n",
              "    </tr>\n",
              "    <tr>\n",
              "      <th>4</th>\n",
              "      <td>34</td>\n",
              "      <td>159.558824</td>\n",
              "      <td>-0.893693</td>\n",
              "      <td>-0.636448</td>\n",
              "      <td>185.0</td>\n",
              "      <td>25.0</td>\n",
              "      <td>73.748057</td>\n",
              "      <td>25.0</td>\n",
              "      <td>245.0</td>\n",
              "      <td>122.5</td>\n",
              "      <td>215.0</td>\n",
              "      <td>92.5</td>\n",
              "    </tr>\n",
              "    <tr>\n",
              "      <th>5</th>\n",
              "      <td>200</td>\n",
              "      <td>147.478333</td>\n",
              "      <td>0.266550</td>\n",
              "      <td>-1.097457</td>\n",
              "      <td>135.0</td>\n",
              "      <td>100.0</td>\n",
              "      <td>74.874091</td>\n",
              "      <td>25.0</td>\n",
              "      <td>275.0</td>\n",
              "      <td>100.0</td>\n",
              "      <td>220.0</td>\n",
              "      <td>120.0</td>\n",
              "    </tr>\n",
              "  </tbody>\n",
              "</table>\n",
              "</div>"
            ],
            "text/plain": [
              "   nobs        mean      skew  kurtosis  ...   peak    q25    q75    iqr\n",
              "0    85  148.411765 -0.170872 -1.218425  ...  260.0   90.0  205.0  115.0\n",
              "1   103  186.116505 -1.241716  0.065125  ...  270.0  185.0  232.5   47.5\n",
              "2   117  192.350427 -1.402413  0.727092  ...  265.0  190.0  235.0   45.0\n",
              "4    34  159.558824 -0.893693 -0.636448  ...  245.0  122.5  215.0   92.5\n",
              "5   200  147.478333  0.266550 -1.097457  ...  275.0  100.0  220.0  120.0\n",
              "\n",
              "[5 rows x 12 columns]"
            ]
          },
          "metadata": {
            "tags": []
          },
          "execution_count": 17
        }
      ]
    },
    {
      "cell_type": "code",
      "metadata": {
        "id": "W35D_z4iAWWX",
        "colab_type": "code",
        "colab": {
          "base_uri": "https://localhost:8080/",
          "height": 124
        },
        "outputId": "0d898a90-ad88-4642-c33f-b7f3d3696fba"
      },
      "source": [
        "labels.head()"
      ],
      "execution_count": 18,
      "outputs": [
        {
          "output_type": "execute_result",
          "data": {
            "text/plain": [
              "0      Male\n",
              "1    Female\n",
              "2    Female\n",
              "4      Male\n",
              "5      Male\n",
              "Name: gender, dtype: object"
            ]
          },
          "metadata": {
            "tags": []
          },
          "execution_count": 18
        }
      ]
    },
    {
      "cell_type": "code",
      "metadata": {
        "id": "BxscH86EAWWb",
        "colab_type": "code",
        "colab": {}
      },
      "source": [
        "scale = StandardScaler()\n",
        "scale.fit(features)\n",
        "scaled_temp_df_1 = scale.transform(features)"
      ],
      "execution_count": 175,
      "outputs": []
    },
    {
      "cell_type": "code",
      "metadata": {
        "id": "PV1K0wi7jFG7",
        "colab_type": "code",
        "colab": {}
      },
      "source": [
        "import pickle"
      ],
      "execution_count": 176,
      "outputs": []
    },
    {
      "cell_type": "code",
      "metadata": {
        "id": "KZbwAy8ZlN47",
        "colab_type": "code",
        "colab": {}
      },
      "source": [
        ""
      ],
      "execution_count": 177,
      "outputs": []
    },
    {
      "cell_type": "code",
      "metadata": {
        "id": "5tVdO0lPjO-K",
        "colab_type": "code",
        "colab": {}
      },
      "source": [
        "pickle.dump(scale, open('scaler.sav', 'wb'))"
      ],
      "execution_count": 179,
      "outputs": []
    },
    {
      "cell_type": "code",
      "metadata": {
        "id": "xJyYFzloZ3n3",
        "colab_type": "code",
        "colab": {}
      },
      "source": [
        "from sklearn.preprocessing import LabelEncoder\n",
        "le = LabelEncoder()\n",
        "labels = le.fit_transform(labels)"
      ],
      "execution_count": 181,
      "outputs": []
    },
    {
      "cell_type": "code",
      "metadata": {
        "id": "Z7x4RpLjAWWe",
        "colab_type": "code",
        "colab": {}
      },
      "source": [
        "from sklearn.svm import SVC"
      ],
      "execution_count": 183,
      "outputs": []
    },
    {
      "cell_type": "code",
      "metadata": {
        "id": "Rbgh14fFAWWh",
        "colab_type": "code",
        "colab": {}
      },
      "source": [
        "from sklearn.model_selection import train_test_split\n",
        "X_train,X_test,y_train,y_test = train_test_split(scaled_temp_df_1,labels,stratify=labels)"
      ],
      "execution_count": 182,
      "outputs": []
    },
    {
      "cell_type": "code",
      "metadata": {
        "id": "mgGwDvsWAWWj",
        "colab_type": "code",
        "colab": {}
      },
      "source": [
        "from sklearn.model_selection import GridSearchCV"
      ],
      "execution_count": 184,
      "outputs": []
    },
    {
      "cell_type": "code",
      "metadata": {
        "id": "huOQXbnjAWWm",
        "colab_type": "code",
        "colab": {}
      },
      "source": [
        "param_grid = {'C': [1.25],  \n",
        "              'gamma': [1.3]\n",
        "             }  \n",
        "svc = SVC()\n",
        "GS = GridSearchCV(svc,param_grid,n_jobs=-1)"
      ],
      "execution_count": 188,
      "outputs": []
    },
    {
      "cell_type": "code",
      "metadata": {
        "id": "FefKhOHeAWWp",
        "colab_type": "code",
        "colab": {
          "base_uri": "https://localhost:8080/",
          "height": 195
        },
        "outputId": "3832c6ee-b6b5-4f62-adc2-314b4cd239e5"
      },
      "source": [
        "GS.fit(X_train,y_train)"
      ],
      "execution_count": 189,
      "outputs": [
        {
          "output_type": "execute_result",
          "data": {
            "text/plain": [
              "GridSearchCV(cv=None, error_score=nan,\n",
              "             estimator=SVC(C=1.0, break_ties=False, cache_size=200,\n",
              "                           class_weight=None, coef0=0.0,\n",
              "                           decision_function_shape='ovr', degree=3,\n",
              "                           gamma='scale', kernel='rbf', max_iter=-1,\n",
              "                           probability=False, random_state=None, shrinking=True,\n",
              "                           tol=0.001, verbose=False),\n",
              "             iid='deprecated', n_jobs=-1,\n",
              "             param_grid={'C': [1.25], 'gamma': [1.3]}, pre_dispatch='2*n_jobs',\n",
              "             refit=True, return_train_score=False, scoring=None, verbose=0)"
            ]
          },
          "metadata": {
            "tags": []
          },
          "execution_count": 189
        }
      ]
    },
    {
      "cell_type": "code",
      "metadata": {
        "id": "sn-U-IYdAWWs",
        "colab_type": "code",
        "colab": {
          "base_uri": "https://localhost:8080/",
          "height": 35
        },
        "outputId": "c25c92e6-b5a8-462b-a8a4-ead13ed5abc7"
      },
      "source": [
        "GS.best_score_"
      ],
      "execution_count": 190,
      "outputs": [
        {
          "output_type": "execute_result",
          "data": {
            "text/plain": [
              "0.939487884756588"
            ]
          },
          "metadata": {
            "tags": []
          },
          "execution_count": 190
        }
      ]
    },
    {
      "cell_type": "code",
      "metadata": {
        "id": "gpMiPvaYAWWv",
        "colab_type": "code",
        "colab": {
          "base_uri": "https://localhost:8080/",
          "height": 88
        },
        "outputId": "482e0452-2f39-4d77-a28a-c3023c9b5182"
      },
      "source": [
        "GS.best_estimator_"
      ],
      "execution_count": 191,
      "outputs": [
        {
          "output_type": "execute_result",
          "data": {
            "text/plain": [
              "SVC(C=1.25, break_ties=False, cache_size=200, class_weight=None, coef0=0.0,\n",
              "    decision_function_shape='ovr', degree=3, gamma=1.3, kernel='rbf',\n",
              "    max_iter=-1, probability=False, random_state=None, shrinking=True,\n",
              "    tol=0.001, verbose=False)"
            ]
          },
          "metadata": {
            "tags": []
          },
          "execution_count": 191
        }
      ]
    },
    {
      "cell_type": "code",
      "metadata": {
        "id": "KZ4RYhF2AWWx",
        "colab_type": "code",
        "colab": {}
      },
      "source": [
        "from sklearn.metrics import accuracy_score"
      ],
      "execution_count": 192,
      "outputs": []
    },
    {
      "cell_type": "code",
      "metadata": {
        "id": "lGK7Yt5-AWWz",
        "colab_type": "code",
        "colab": {
          "base_uri": "https://localhost:8080/",
          "height": 35
        },
        "outputId": "f96c5820-c8ed-4496-f314-fc3eeeb8b073"
      },
      "source": [
        "accuracy_score(GS.predict(X_test),y_test)"
      ],
      "execution_count": 193,
      "outputs": [
        {
          "output_type": "execute_result",
          "data": {
            "text/plain": [
              "0.9389632107023411"
            ]
          },
          "metadata": {
            "tags": []
          },
          "execution_count": 193
        }
      ]
    },
    {
      "cell_type": "code",
      "metadata": {
        "id": "GT9_nQcY6epW",
        "colab_type": "code",
        "colab": {}
      },
      "source": [
        "from sklearn.metrics import classification_report"
      ],
      "execution_count": 194,
      "outputs": []
    },
    {
      "cell_type": "code",
      "metadata": {
        "id": "MOzBzKtKDcLq",
        "colab_type": "code",
        "colab": {
          "base_uri": "https://localhost:8080/",
          "height": 177
        },
        "outputId": "348f361c-8d88-4307-8eb2-cedb6b69a2c0"
      },
      "source": [
        "print(classification_report(y_test,GS.predict(X_test)))"
      ],
      "execution_count": 195,
      "outputs": [
        {
          "output_type": "stream",
          "text": [
            "              precision    recall  f1-score   support\n",
            "\n",
            "           0       0.75      0.24      0.37        87\n",
            "           1       0.94      0.99      0.97      1109\n",
            "\n",
            "    accuracy                           0.94      1196\n",
            "   macro avg       0.85      0.62      0.67      1196\n",
            "weighted avg       0.93      0.94      0.92      1196\n",
            "\n"
          ],
          "name": "stdout"
        }
      ]
    },
    {
      "cell_type": "code",
      "metadata": {
        "id": "AygJJeQ6CFMP",
        "colab_type": "code",
        "colab": {
          "base_uri": "https://localhost:8080/",
          "height": 177
        },
        "outputId": "99056191-94ec-496a-e2c8-3fc411ebd4cf"
      },
      "source": [
        "print(classification_report(y_test,y_pred))"
      ],
      "execution_count": null,
      "outputs": [
        {
          "output_type": "stream",
          "text": [
            "              precision    recall  f1-score   support\n",
            "\n",
            "           0       0.73      0.41      0.53        87\n",
            "           1       0.96      0.99      0.97      1109\n",
            "\n",
            "    accuracy                           0.95      1196\n",
            "   macro avg       0.85      0.70      0.75      1196\n",
            "weighted avg       0.94      0.95      0.94      1196\n",
            "\n"
          ],
          "name": "stdout"
        }
      ]
    },
    {
      "cell_type": "code",
      "metadata": {
        "id": "OKTpiixaX8f1",
        "colab_type": "code",
        "colab": {}
      },
      "source": [
        "from sklearn.metrics import roc_auc_score,roc_curve"
      ],
      "execution_count": 32,
      "outputs": []
    },
    {
      "cell_type": "code",
      "metadata": {
        "id": "l3iq_5cFX9p_",
        "colab_type": "code",
        "colab": {}
      },
      "source": [
        "svc_prob = SVC(probability=True,C=1.25,gamma=1.3)\n",
        "svc_prob.fit(X_train,y_train)\n",
        "prob_pred = svc_prob.predict_proba(X_test)[:,0]"
      ],
      "execution_count": 33,
      "outputs": []
    },
    {
      "cell_type": "code",
      "metadata": {
        "id": "nNzuO6DpBfXP",
        "colab_type": "code",
        "colab": {}
      },
      "source": [
        "y_pred = (svc_prob.predict_proba(X_test)[:,1] >= 0.65) "
      ],
      "execution_count": 34,
      "outputs": []
    },
    {
      "cell_type": "code",
      "metadata": {
        "id": "Z6F-KRqt7zIP",
        "colab_type": "code",
        "colab": {
          "base_uri": "https://localhost:8080/",
          "height": 35
        },
        "outputId": "3f1cb228-d3e8-4b81-dc9b-c1a3e40fd1c4"
      },
      "source": [
        ""
      ],
      "execution_count": null,
      "outputs": [
        {
          "output_type": "execute_result",
          "data": {
            "text/plain": [
              "0.003137842524416568"
            ]
          },
          "metadata": {
            "tags": []
          },
          "execution_count": 81
        }
      ]
    },
    {
      "cell_type": "code",
      "metadata": {
        "id": "Mr40WXuyYyQ4",
        "colab_type": "code",
        "colab": {}
      },
      "source": [
        "fpr,tpr,threshold= roc_curve(y_test,prob_pred)"
      ],
      "execution_count": 35,
      "outputs": []
    },
    {
      "cell_type": "code",
      "metadata": {
        "id": "hN8GLNMH9sGc",
        "colab_type": "code",
        "colab": {
          "base_uri": "https://localhost:8080/",
          "height": 408
        },
        "outputId": "f96cf894-4090-4c2b-d0ff-9ad26a9b57f7"
      },
      "source": [
        "threshold"
      ],
      "execution_count": null,
      "outputs": [
        {
          "output_type": "execute_result",
          "data": {
            "text/plain": [
              "array([1.99575479, 0.99575479, 0.98214041, 0.98160643, 0.98144985,\n",
              "       0.98134118, 0.97981024, 0.9798092 , 0.97821745, 0.97821635,\n",
              "       0.97662314, 0.97661586, 0.9683991 , 0.9682937 , 0.96718632,\n",
              "       0.96715104, 0.96446328, 0.96442606, 0.96372206, 0.96371018,\n",
              "       0.96158395, 0.96146326, 0.9590943 , 0.95904584, 0.95808262,\n",
              "       0.95803543, 0.95726348, 0.95725917, 0.95703356, 0.95699146,\n",
              "       0.95570553, 0.95566723, 0.95498831, 0.95498403, 0.95471112,\n",
              "       0.95468806, 0.95450147, 0.95449579, 0.95357952, 0.9535704 ,\n",
              "       0.95314281, 0.95300774, 0.95239343, 0.95234327, 0.95130737,\n",
              "       0.95128006, 0.9512494 , 0.9512274 , 0.94997705, 0.94995021,\n",
              "       0.94687721, 0.94683   , 0.94473341, 0.94461417, 0.93774783,\n",
              "       0.93769213, 0.93393402, 0.93374688, 0.93018683, 0.93004128,\n",
              "       0.92736105, 0.92686588, 0.92443179, 0.92376792, 0.91828676,\n",
              "       0.91783682, 0.90017505, 0.89978862, 0.89860369, 0.89847871,\n",
              "       0.89451795, 0.88798715, 0.88671479, 0.88358725, 0.86542373,\n",
              "       0.86163417, 0.85688705, 0.85459607, 0.82372645, 0.8184493 ,\n",
              "       0.79903809, 0.79626581, 0.7925223 , 0.77951399, 0.77429296,\n",
              "       0.76641179, 0.73817623, 0.72802565, 0.72250743, 0.7086372 ,\n",
              "       0.6830028 , 0.65855267, 0.62527997, 0.62008278, 0.59585508,\n",
              "       0.59241993, 0.57979983, 0.57696998, 0.56761986, 0.53157551,\n",
              "       0.46612056, 0.41231525, 0.40127613, 0.39721691, 0.39309044,\n",
              "       0.32018955, 0.30914935, 0.27936515, 0.24717513, 0.0213859 ])"
            ]
          },
          "metadata": {
            "tags": []
          },
          "execution_count": 89
        }
      ]
    },
    {
      "cell_type": "code",
      "metadata": {
        "id": "aFQuZ3ACdoqa",
        "colab_type": "code",
        "colab": {}
      },
      "source": [
        "from sklearn.metrics import recall_score,precision_score,f1_score"
      ],
      "execution_count": 196,
      "outputs": []
    },
    {
      "cell_type": "code",
      "metadata": {
        "id": "2GSpTXSLeF2y",
        "colab_type": "code",
        "colab": {
          "base_uri": "https://localhost:8080/",
          "height": 266
        },
        "outputId": "8f2c7e92-9bee-4bdb-fdfd-c46abb2bf33c"
      },
      "source": [
        "precision = []\n",
        "recall = []\n",
        "f1 = []\n",
        "for i in threshold:\n",
        "  y_pred_thresh = np.where(prob_pred > i ,0,1)\n",
        "  precision.append(precision_score(y_test,y_pred_thresh))\n",
        "  recall.append(recall_score(y_test,y_pred_thresh))\n",
        "  f1.append(f1_score(y_test,y_pred_thresh))\n",
        "prec_recall_thresh_series = pd.concat([pd.Series(precision),pd.Series(recall),pd.Series(threshold),pd.Series(f1)],axis=1)\n",
        "prec_recall_thresh_series.columns = ['precision','recall','threshold','f1']\n",
        "print(prec_recall_thresh_series.sort_values(by='f1',ascending=False))\n",
        "\n",
        "#0.5769\n",
        "#0.4589\n"
      ],
      "execution_count": 37,
      "outputs": [
        {
          "output_type": "stream",
          "text": [
            "     precision    recall  threshold        f1\n",
            "16    0.947549  0.993688   0.699439  0.970070\n",
            "17    0.948320  0.992786   0.604811  0.970044\n",
            "19    0.949094  0.991885   0.500000  0.970018\n",
            "18    0.948276  0.991885   0.540363  0.969590\n",
            "15    0.945159  0.994590   0.783187  0.969244\n",
            "..         ...       ...        ...       ...\n",
            "117   0.945946  0.031560   0.015554  0.061082\n",
            "118   0.944444  0.030658   0.015471  0.059389\n",
            "119   0.937500  0.013526   0.013482  0.026667\n",
            "120   0.933333  0.012624   0.013323  0.024911\n",
            "121   1.000000  0.000902   0.005487  0.001802\n",
            "\n",
            "[122 rows x 4 columns]\n"
          ],
          "name": "stdout"
        }
      ]
    },
    {
      "cell_type": "markdown",
      "metadata": {
        "id": "zo1V7aaRIlZt",
        "colab_type": "text"
      },
      "source": [
        "TRying smote on male/female classifier"
      ]
    },
    {
      "cell_type": "code",
      "metadata": {
        "id": "dW0GVfFuIxyJ",
        "colab_type": "code",
        "colab": {
          "base_uri": "https://localhost:8080/",
          "height": 126
        },
        "outputId": "3ea8580b-131c-4c25-9eb0-3b0c382a4bb1"
      },
      "source": [
        "from imblearn.over_sampling import SMOTE\n",
        "sm = SMOTE(random_state=10)\n",
        "Aug_scaled_features_mf,new_labels_mf=sm.fit_sample(scaled_temp_df_1,labels)\n",
        "print(pd.value_counts(new_labels_mf))"
      ],
      "execution_count": 197,
      "outputs": [
        {
          "output_type": "stream",
          "text": [
            "1    4434\n",
            "0    4434\n",
            "dtype: int64\n"
          ],
          "name": "stdout"
        },
        {
          "output_type": "stream",
          "text": [
            "/usr/local/lib/python3.6/dist-packages/sklearn/utils/deprecation.py:87: FutureWarning: Function safe_indexing is deprecated; safe_indexing is deprecated in version 0.22 and will be removed in version 0.24.\n",
            "  warnings.warn(msg, category=FutureWarning)\n"
          ],
          "name": "stderr"
        }
      ]
    },
    {
      "cell_type": "code",
      "metadata": {
        "id": "W6AbwcZ9JM19",
        "colab_type": "code",
        "colab": {}
      },
      "source": [
        "from sklearn.model_selection import train_test_split\n",
        "X_train,X_test,y_train,y_test = train_test_split(Aug_scaled_features_mf,new_labels_mf,stratify=new_labels_mf)"
      ],
      "execution_count": 198,
      "outputs": []
    },
    {
      "cell_type": "code",
      "metadata": {
        "id": "eb2MSOhQJXZr",
        "colab_type": "code",
        "colab": {}
      },
      "source": [
        "param_grid = {'C': [10],  \n",
        "              'gamma': [3]\n",
        "             }\n",
        "\n",
        "svc = SVC()\n",
        "GS_smote = GridSearchCV(svc,param_grid,n_jobs=-1)"
      ],
      "execution_count": 199,
      "outputs": []
    },
    {
      "cell_type": "code",
      "metadata": {
        "id": "5pNqlt06JwD1",
        "colab_type": "code",
        "colab": {
          "base_uri": "https://localhost:8080/",
          "height": 52
        },
        "outputId": "1541242b-51c7-4969-d2c4-2ba4cb0f2e4c"
      },
      "source": [
        "GS_smote.fit(X_train,y_train)\n",
        "print(GS_smote.best_params_)\n",
        "print(GS_smote.best_score_)"
      ],
      "execution_count": 200,
      "outputs": [
        {
          "output_type": "stream",
          "text": [
            "{'C': 10, 'gamma': 3}\n",
            "0.9682749699191631\n"
          ],
          "name": "stdout"
        }
      ]
    },
    {
      "cell_type": "code",
      "metadata": {
        "id": "8yneSnhHKZEp",
        "colab_type": "code",
        "colab": {
          "base_uri": "https://localhost:8080/",
          "height": 177
        },
        "outputId": "74e5279c-b870-49cf-dd21-96476bcda5b1"
      },
      "source": [
        "print(classification_report(y_test,GS_smote.predict(X_test)))"
      ],
      "execution_count": 201,
      "outputs": [
        {
          "output_type": "stream",
          "text": [
            "              precision    recall  f1-score   support\n",
            "\n",
            "           0       0.96      0.99      0.98      1109\n",
            "           1       0.99      0.96      0.98      1108\n",
            "\n",
            "    accuracy                           0.98      2217\n",
            "   macro avg       0.98      0.98      0.98      2217\n",
            "weighted avg       0.98      0.98      0.98      2217\n",
            "\n"
          ],
          "name": "stdout"
        }
      ]
    },
    {
      "cell_type": "code",
      "metadata": {
        "id": "PKB2C4MikKRY",
        "colab_type": "code",
        "colab": {
          "base_uri": "https://localhost:8080/",
          "height": 35
        },
        "outputId": "5b98dc0c-ca4e-4e8a-ca32-e91a9c9b4b01"
      },
      "source": [
        "roc_auc_score(y_test,GS_smote.predict(X_test))"
      ],
      "execution_count": 202,
      "outputs": [
        {
          "output_type": "execute_result",
          "data": {
            "text/plain": [
              "0.9756370587871468"
            ]
          },
          "metadata": {
            "tags": []
          },
          "execution_count": 202
        }
      ]
    },
    {
      "cell_type": "code",
      "metadata": {
        "id": "oHMqujF0opUx",
        "colab_type": "code",
        "colab": {}
      },
      "source": [
        "pickle.dump(GS_smote, open('male_female.sav', 'wb'))"
      ],
      "execution_count": 203,
      "outputs": []
    },
    {
      "cell_type": "code",
      "metadata": {
        "id": "jvodiWAokTry",
        "colab_type": "code",
        "colab": {}
      },
      "source": [
        ""
      ],
      "execution_count": null,
      "outputs": []
    },
    {
      "cell_type": "code",
      "metadata": {
        "id": "WPfhqCJ4AWW2",
        "colab_type": "code",
        "colab": {}
      },
      "source": [
        "###FIRST CLASSIFIER DONE.###"
      ],
      "execution_count": null,
      "outputs": []
    },
    {
      "cell_type": "code",
      "metadata": {
        "id": "qgla07FuAWW4",
        "colab_type": "code",
        "colab": {}
      },
      "source": [
        "labels_1 = temp_df_1.iloc[:,-2]"
      ],
      "execution_count": 205,
      "outputs": []
    },
    {
      "cell_type": "code",
      "metadata": {
        "id": "feFOTvZro9yD",
        "colab_type": "code",
        "colab": {
          "base_uri": "https://localhost:8080/",
          "height": 230
        },
        "outputId": "546491e8-b021-4b87-dbcf-5a4152592111"
      },
      "source": [
        "labels_1"
      ],
      "execution_count": 206,
      "outputs": [
        {
          "output_type": "execute_result",
          "data": {
            "text/plain": [
              "0       American\n",
              "1          Other\n",
              "2          Other\n",
              "4       American\n",
              "5          Other\n",
              "          ...   \n",
              "5157    American\n",
              "5158    American\n",
              "5159    American\n",
              "5160    American\n",
              "5161    American\n",
              "Name: pronunciation, Length: 4782, dtype: object"
            ]
          },
          "metadata": {
            "tags": []
          },
          "execution_count": 206
        }
      ]
    },
    {
      "cell_type": "code",
      "metadata": {
        "id": "bvCukkGUAWW7",
        "colab_type": "code",
        "colab": {
          "base_uri": "https://localhost:8080/",
          "height": 36
        },
        "outputId": "d1078771-7afa-4a4c-aca5-34cea3d84831"
      },
      "source": [
        "'''from sklearn.model_selection import train_test_split\n",
        "X_train,X_test,y_train,y_test = train_test_split(scaled_temp_df_1,labels_1,stratify=labels)'''"
      ],
      "execution_count": null,
      "outputs": [
        {
          "output_type": "execute_result",
          "data": {
            "application/vnd.google.colaboratory.intrinsic+json": {
              "type": "string"
            },
            "text/plain": [
              "'from sklearn.model_selection import train_test_split\\nX_train,X_test,y_train,y_test = train_test_split(scaled_temp_df_1,labels_1,stratify=labels)'"
            ]
          },
          "metadata": {
            "tags": []
          },
          "execution_count": 46
        }
      ]
    },
    {
      "cell_type": "code",
      "metadata": {
        "id": "x8g5oEXPAWW-",
        "colab_type": "code",
        "colab": {
          "base_uri": "https://localhost:8080/",
          "height": 53
        },
        "outputId": "7fc9b137-bf74-4d26-af2c-833d14a77614"
      },
      "source": [
        "'''param_grid_1 = {'C': [0.1, 1, 10, 100, 1000],  \n",
        "              'gamma': [1, 0.1, 0.01, 0.001, 0.0001]\n",
        "              }   \n",
        "svc_1 = SVC()\n",
        "GS_1 = GridSearchCV(svc_1,param_grid_1,n_jobs=-1)'''"
      ],
      "execution_count": null,
      "outputs": [
        {
          "output_type": "execute_result",
          "data": {
            "application/vnd.google.colaboratory.intrinsic+json": {
              "type": "string"
            },
            "text/plain": [
              "\"param_grid_1 = {'C': [0.1, 1, 10, 100, 1000],  \\n              'gamma': [1, 0.1, 0.01, 0.001, 0.0001]\\n              }   \\nsvc_1 = SVC()\\nGS_1 = GridSearchCV(svc_1,param_grid_1,n_jobs=-1)\""
            ]
          },
          "metadata": {
            "tags": []
          },
          "execution_count": 47
        }
      ]
    },
    {
      "cell_type": "code",
      "metadata": {
        "id": "FdEnxmcwAWXA",
        "colab_type": "code",
        "colab": {
          "base_uri": "https://localhost:8080/",
          "height": 36
        },
        "outputId": "6b4cf839-c25f-4b78-f120-8038ebe60111"
      },
      "source": [
        "'''GS_1.fit(X_train,y_train)'''"
      ],
      "execution_count": null,
      "outputs": [
        {
          "output_type": "execute_result",
          "data": {
            "application/vnd.google.colaboratory.intrinsic+json": {
              "type": "string"
            },
            "text/plain": [
              "'GS_1.fit(X_train,y_train)'"
            ]
          },
          "metadata": {
            "tags": []
          },
          "execution_count": 48
        }
      ]
    },
    {
      "cell_type": "code",
      "metadata": {
        "id": "HhnZgg5bAWXC",
        "colab_type": "code",
        "colab": {
          "base_uri": "https://localhost:8080/",
          "height": 36
        },
        "outputId": "3084e9b3-bc73-4c56-f55b-1bd4237d18fa"
      },
      "source": [
        "'''print(GS_1.best_score_)\n",
        "print(GS_1.best_estimator_)'''"
      ],
      "execution_count": null,
      "outputs": [
        {
          "output_type": "execute_result",
          "data": {
            "application/vnd.google.colaboratory.intrinsic+json": {
              "type": "string"
            },
            "text/plain": [
              "'print(GS_1.best_score_)\\nprint(GS_1.best_estimator_)'"
            ]
          },
          "metadata": {
            "tags": []
          },
          "execution_count": 49
        }
      ]
    },
    {
      "cell_type": "code",
      "metadata": {
        "id": "LHQhUFC6AWXG",
        "colab_type": "code",
        "colab": {
          "base_uri": "https://localhost:8080/",
          "height": 36
        },
        "outputId": "42e05201-9466-4a07-a512-f8fa098f6de6"
      },
      "source": [
        "'''accuracy_score(GS_1.predict(X_test),y_test)'''"
      ],
      "execution_count": null,
      "outputs": [
        {
          "output_type": "execute_result",
          "data": {
            "application/vnd.google.colaboratory.intrinsic+json": {
              "type": "string"
            },
            "text/plain": [
              "'accuracy_score(GS_1.predict(X_test),y_test)'"
            ]
          },
          "metadata": {
            "tags": []
          },
          "execution_count": 50
        }
      ]
    },
    {
      "cell_type": "code",
      "metadata": {
        "id": "cntRbtw-AWXJ",
        "colab_type": "code",
        "colab": {
          "base_uri": "https://localhost:8080/",
          "height": 36
        },
        "outputId": "3027de4a-fbd4-4cac-b670-3138a78d6ef3"
      },
      "source": [
        "'''GS_1.predict([X_test[0]])'''"
      ],
      "execution_count": null,
      "outputs": [
        {
          "output_type": "execute_result",
          "data": {
            "application/vnd.google.colaboratory.intrinsic+json": {
              "type": "string"
            },
            "text/plain": [
              "'GS_1.predict([X_test[0]])'"
            ]
          },
          "metadata": {
            "tags": []
          },
          "execution_count": 51
        }
      ]
    },
    {
      "cell_type": "code",
      "metadata": {
        "id": "DOvbI2kpAWXL",
        "colab_type": "code",
        "colab": {
          "base_uri": "https://localhost:8080/",
          "height": 141
        },
        "outputId": "102cd801-9de0-4def-e216-bd13897c2c4e"
      },
      "source": [
        "pd.value_counts(labels_1)"
      ],
      "execution_count": 207,
      "outputs": [
        {
          "output_type": "execute_result",
          "data": {
            "text/plain": [
              "American      2304\n",
              "Other          810\n",
              "European       705\n",
              "British        607\n",
              "Indian         209\n",
              "Australian     147\n",
              "Name: pronunciation, dtype: int64"
            ]
          },
          "metadata": {
            "tags": []
          },
          "execution_count": 207
        }
      ]
    },
    {
      "cell_type": "code",
      "metadata": {
        "id": "QxFer4xXAWXO",
        "colab_type": "code",
        "colab": {
          "base_uri": "https://localhost:8080/",
          "height": 36
        },
        "outputId": "379bf43d-57f8-4fdb-97e4-58529677af92"
      },
      "source": [
        "'''from sklearn.ensemble import RandomForestClassifier\n",
        "'''"
      ],
      "execution_count": null,
      "outputs": [
        {
          "output_type": "execute_result",
          "data": {
            "application/vnd.google.colaboratory.intrinsic+json": {
              "type": "string"
            },
            "text/plain": [
              "'from sklearn.ensemble import RandomForestClassifier\\n'"
            ]
          },
          "metadata": {
            "tags": []
          },
          "execution_count": 53
        }
      ]
    },
    {
      "cell_type": "code",
      "metadata": {
        "id": "fe2si7Q_AWXQ",
        "colab_type": "code",
        "colab": {
          "base_uri": "https://localhost:8080/",
          "height": 339
        },
        "outputId": "ba50fc20-0a44-4c59-dbca-7753b64ae561"
      },
      "source": [
        "from imblearn.over_sampling import SMOTE\n",
        "sm = SMOTE(random_state=10)\n",
        "Aug_scaled_features_accent,new_labels_accent=sm.fit_sample(scaled_temp_df_1,labels_1)\n",
        "print(pd.value_counts(new_labels_accent))"
      ],
      "execution_count": 208,
      "outputs": [
        {
          "output_type": "stream",
          "text": [
            "American      2304\n",
            "British       2304\n",
            "European      2304\n",
            "Indian        2304\n",
            "Australian    2304\n",
            "Other         2304\n",
            "dtype: int64\n"
          ],
          "name": "stdout"
        },
        {
          "output_type": "stream",
          "text": [
            "/usr/local/lib/python3.6/dist-packages/sklearn/utils/deprecation.py:87: FutureWarning: Function safe_indexing is deprecated; safe_indexing is deprecated in version 0.22 and will be removed in version 0.24.\n",
            "  warnings.warn(msg, category=FutureWarning)\n",
            "/usr/local/lib/python3.6/dist-packages/sklearn/utils/deprecation.py:87: FutureWarning: Function safe_indexing is deprecated; safe_indexing is deprecated in version 0.22 and will be removed in version 0.24.\n",
            "  warnings.warn(msg, category=FutureWarning)\n",
            "/usr/local/lib/python3.6/dist-packages/sklearn/utils/deprecation.py:87: FutureWarning: Function safe_indexing is deprecated; safe_indexing is deprecated in version 0.22 and will be removed in version 0.24.\n",
            "  warnings.warn(msg, category=FutureWarning)\n",
            "/usr/local/lib/python3.6/dist-packages/sklearn/utils/deprecation.py:87: FutureWarning: Function safe_indexing is deprecated; safe_indexing is deprecated in version 0.22 and will be removed in version 0.24.\n",
            "  warnings.warn(msg, category=FutureWarning)\n",
            "/usr/local/lib/python3.6/dist-packages/sklearn/utils/deprecation.py:87: FutureWarning: Function safe_indexing is deprecated; safe_indexing is deprecated in version 0.22 and will be removed in version 0.24.\n",
            "  warnings.warn(msg, category=FutureWarning)\n"
          ],
          "name": "stderr"
        }
      ]
    },
    {
      "cell_type": "code",
      "metadata": {
        "id": "L7dabGpnp8j0",
        "colab_type": "code",
        "colab": {}
      },
      "source": [
        "new_labels_accent = le.fit_transform(new_labels_accent)"
      ],
      "execution_count": 219,
      "outputs": []
    },
    {
      "cell_type": "code",
      "metadata": {
        "id": "ZXAeuw6xAWXS",
        "colab_type": "code",
        "colab": {}
      },
      "source": [
        "X_train,X_test,y_train,y_test = train_test_split(Aug_scaled_features_accent,new_labels_accent,stratify=new_labels_accent)"
      ],
      "execution_count": 220,
      "outputs": []
    },
    {
      "cell_type": "code",
      "metadata": {
        "id": "PjYeydBvAWXY",
        "colab_type": "code",
        "colab": {
          "base_uri": "https://localhost:8080/",
          "height": 53
        },
        "outputId": "97519242-334d-4507-d23a-7f2370f80a53"
      },
      "source": [
        "'''rf = RandomForestClassifier()\n",
        "rd_params = {\n",
        " 'max_features': ['auto', 'sqrt'],\n",
        " 'n_estimators': [200, 400, 600, 800]\n",
        "}\n",
        "'''\n",
        "'''\n",
        "{'bootstrap': [True, False],\n",
        " 'max_depth': [10, 20, 30, 40, 50, 60, 70, 80, 90, 100, None],\n",
        " 'max_features': ['auto', 'sqrt'],\n",
        " 'min_samples_leaf': [1, 2, 4],\n",
        " 'min_samples_split': [2, 5, 10],\n",
        " 'n_estimators': [200, 400, 600, 800, 1000, 1200, 1400, 1600, 1800, 2000]}\n",
        "\n",
        "'''"
      ],
      "execution_count": null,
      "outputs": [
        {
          "output_type": "execute_result",
          "data": {
            "application/vnd.google.colaboratory.intrinsic+json": {
              "type": "string"
            },
            "text/plain": [
              "\"\\n{'bootstrap': [True, False],\\n 'max_depth': [10, 20, 30, 40, 50, 60, 70, 80, 90, 100, None],\\n 'max_features': ['auto', 'sqrt'],\\n 'min_samples_leaf': [1, 2, 4],\\n 'min_samples_split': [2, 5, 10],\\n 'n_estimators': [200, 400, 600, 800, 1000, 1200, 1400, 1600, 1800, 2000]}\\n\\n\""
            ]
          },
          "metadata": {
            "tags": []
          },
          "execution_count": 56
        }
      ]
    },
    {
      "cell_type": "code",
      "metadata": {
        "id": "gRksz2s2AWXe",
        "colab_type": "code",
        "colab": {
          "base_uri": "https://localhost:8080/",
          "height": 36
        },
        "outputId": "addd8bba-beeb-496e-d0fc-ad9f68dd406b"
      },
      "source": [
        "'''GS_rf = GridSearchCV(rf,rd_params,n_jobs=-1)\n",
        "GS_rf.fit(X_train,y_train)'''"
      ],
      "execution_count": null,
      "outputs": [
        {
          "output_type": "execute_result",
          "data": {
            "application/vnd.google.colaboratory.intrinsic+json": {
              "type": "string"
            },
            "text/plain": [
              "'GS_rf = GridSearchCV(rf,rd_params,n_jobs=-1)\\nGS_rf.fit(X_train,y_train)'"
            ]
          },
          "metadata": {
            "tags": []
          },
          "execution_count": 57
        }
      ]
    },
    {
      "cell_type": "code",
      "metadata": {
        "id": "m1YBk0VRAWXh",
        "colab_type": "code",
        "colab": {}
      },
      "source": [
        "param_grid_2 = {'C': [993],  \n",
        "              'gamma': [2.8]\n",
        "              }  \n",
        "svc_2 = SVC()\n",
        "GS_2 = GridSearchCV(svc_2,param_grid_2,cv=10,n_jobs=-1,verbose=True)"
      ],
      "execution_count": 221,
      "outputs": []
    },
    {
      "cell_type": "code",
      "metadata": {
        "id": "uc366BV0AWXk",
        "colab_type": "code",
        "colab": {
          "base_uri": "https://localhost:8080/",
          "height": 106
        },
        "outputId": "a60686fa-71d0-496e-a028-f4ac1ebc2d79"
      },
      "source": [
        "GS_2.fit(X_train,y_train)\n",
        "print(GS_2.best_score_)\n",
        "print(GS_2.best_params_)"
      ],
      "execution_count": 222,
      "outputs": [
        {
          "output_type": "stream",
          "text": [
            "Fitting 10 folds for each of 1 candidates, totalling 10 fits\n"
          ],
          "name": "stdout"
        },
        {
          "output_type": "stream",
          "text": [
            "[Parallel(n_jobs=-1)]: Using backend LokyBackend with 2 concurrent workers.\n",
            "[Parallel(n_jobs=-1)]: Done  10 out of  10 | elapsed:   57.7s finished\n"
          ],
          "name": "stderr"
        },
        {
          "output_type": "stream",
          "text": [
            "0.8693105110896818\n",
            "{'C': 993, 'gamma': 2.8}\n"
          ],
          "name": "stdout"
        }
      ]
    },
    {
      "cell_type": "markdown",
      "metadata": {
        "id": "XGnCXJ-Ds3qq",
        "colab_type": "text"
      },
      "source": [
        "{'C': 985, 'gamma': 1.7} ---- 0.848\n",
        "\n",
        "{'C': 989, 'gamma': 1.9} ---- 0.8488\n",
        "\n",
        "{'C': 992, 'gamma': 2.2} ---- 0.8497\n",
        "\n",
        "{'C': 993, 'gamma': 2.8} ---- 0.8534"
      ]
    },
    {
      "cell_type": "code",
      "metadata": {
        "id": "9VL643GbsItl",
        "colab_type": "code",
        "colab": {
          "base_uri": "https://localhost:8080/",
          "height": 35
        },
        "outputId": "c24103e4-a412-4b50-fad0-1b11d506b05c"
      },
      "source": [
        "accuracy_score(y_test,GS_2.predict(X_test))"
      ],
      "execution_count": 223,
      "outputs": [
        {
          "output_type": "execute_result",
          "data": {
            "text/plain": [
              "0.8755787037037037"
            ]
          },
          "metadata": {
            "tags": []
          },
          "execution_count": 223
        }
      ]
    },
    {
      "cell_type": "code",
      "metadata": {
        "id": "Q1Z8ZS8rkuHc",
        "colab_type": "code",
        "colab": {
          "base_uri": "https://localhost:8080/",
          "height": 248
        },
        "outputId": "cab154da-f120-4711-9465-8697e1272df7"
      },
      "source": [
        "print(classification_report(y_test,GS_2.predict(X_test)))"
      ],
      "execution_count": 224,
      "outputs": [
        {
          "output_type": "stream",
          "text": [
            "              precision    recall  f1-score   support\n",
            "\n",
            "           0       0.74      0.66      0.69       576\n",
            "           1       0.95      0.98      0.97       576\n",
            "           2       0.90      0.93      0.91       576\n",
            "           3       0.85      0.89      0.87       576\n",
            "           4       0.94      0.96      0.95       576\n",
            "           5       0.85      0.84      0.85       576\n",
            "\n",
            "    accuracy                           0.88      3456\n",
            "   macro avg       0.87      0.88      0.87      3456\n",
            "weighted avg       0.87      0.88      0.87      3456\n",
            "\n"
          ],
          "name": "stdout"
        }
      ]
    },
    {
      "cell_type": "code",
      "metadata": {
        "id": "fkR_UF-oqGb1",
        "colab_type": "code",
        "colab": {
          "base_uri": "https://localhost:8080/",
          "height": 35
        },
        "outputId": "18d79767-0273-4958-a491-d6716c85e5be"
      },
      "source": [
        "y_test[0]"
      ],
      "execution_count": 225,
      "outputs": [
        {
          "output_type": "execute_result",
          "data": {
            "text/plain": [
              "4"
            ]
          },
          "metadata": {
            "tags": []
          },
          "execution_count": 225
        }
      ]
    },
    {
      "cell_type": "code",
      "metadata": {
        "id": "s2iFAjizpV7g",
        "colab_type": "code",
        "colab": {}
      },
      "source": [
        "pickle.dump(GS_2, open('accent.sav', 'wb'))"
      ],
      "execution_count": 226,
      "outputs": []
    },
    {
      "cell_type": "code",
      "metadata": {
        "id": "SL0e7-KSAWXn",
        "colab_type": "code",
        "colab": {
          "base_uri": "https://localhost:8080/",
          "height": 36
        },
        "outputId": "7f1ca0dc-b39a-4f9c-87b4-d97cce9707e6"
      },
      "source": [
        "'''print(GS_rf.best_score_)\n",
        "print(GS_rf.best_estimator_)'''"
      ],
      "execution_count": null,
      "outputs": [
        {
          "output_type": "execute_result",
          "data": {
            "application/vnd.google.colaboratory.intrinsic+json": {
              "type": "string"
            },
            "text/plain": [
              "'print(GS_rf.best_score_)\\nprint(GS_rf.best_estimator_)'"
            ]
          },
          "metadata": {
            "tags": []
          },
          "execution_count": 61
        }
      ]
    },
    {
      "cell_type": "code",
      "metadata": {
        "id": "9kiYoJ7iAWXs",
        "colab_type": "code",
        "colab": {}
      },
      "source": [
        "from xgboost import XGBClassifier\n"
      ],
      "execution_count": 104,
      "outputs": []
    },
    {
      "cell_type": "code",
      "metadata": {
        "id": "JVPSzFnOAWXv",
        "colab_type": "code",
        "colab": {}
      },
      "source": [
        "XGB = XGBClassifier()\n",
        "param_XGB = {\n",
        "    \n",
        "    'max_depth':[9,10,12],\n",
        "    'n_estimators':[200,250],\n",
        "    'learning_rate': [0.1,0.01,0.005],\n",
        "    'booster':['dart']\n",
        "}"
      ],
      "execution_count": 141,
      "outputs": []
    },
    {
      "cell_type": "code",
      "metadata": {
        "id": "QRXkzL77pzkV",
        "colab_type": "code",
        "colab": {
          "base_uri": "https://localhost:8080/",
          "height": 36
        },
        "outputId": "181001a4-1e37-4cf7-e543-9802c57aee4b"
      },
      "source": [
        "y_train[0]"
      ],
      "execution_count": 218,
      "outputs": [
        {
          "output_type": "execute_result",
          "data": {
            "application/vnd.google.colaboratory.intrinsic+json": {
              "type": "string"
            },
            "text/plain": [
              "'Other'"
            ]
          },
          "metadata": {
            "tags": []
          },
          "execution_count": 218
        }
      ]
    },
    {
      "cell_type": "code",
      "metadata": {
        "id": "w6cdahegAWXx",
        "colab_type": "code",
        "colab": {
          "base_uri": "https://localhost:8080/",
          "height": 319
        },
        "outputId": "1270a466-dd5c-47ce-98d4-90a6a50a0552"
      },
      "source": [
        "GS_XGB = GridSearchCV(estimator=XGB,param_grid=param_XGB)\n",
        "GS_XGB.fit(X_train,y_train)"
      ],
      "execution_count": 142,
      "outputs": [
        {
          "output_type": "execute_result",
          "data": {
            "text/plain": [
              "GridSearchCV(cv=None, error_score=nan,\n",
              "             estimator=XGBClassifier(base_score=0.5, booster='gbtree',\n",
              "                                     colsample_bylevel=1, colsample_bynode=1,\n",
              "                                     colsample_bytree=1, gamma=0,\n",
              "                                     learning_rate=0.1, max_delta_step=0,\n",
              "                                     max_depth=3, min_child_weight=1,\n",
              "                                     missing=None, n_estimators=100, n_jobs=1,\n",
              "                                     nthread=None, objective='binary:logistic',\n",
              "                                     random_state=0, reg_alpha=0, reg_lambda=1,\n",
              "                                     scale_pos_weight=1, seed=None, silent=None,\n",
              "                                     subsample=1, verbosity=1),\n",
              "             iid='deprecated', n_jobs=None,\n",
              "             param_grid={'booster': ['dart'],\n",
              "                         'learning_rate': [0.1, 0.01, 0.005],\n",
              "                         'max_depth': [9, 10, 12], 'n_estimators': [200, 250]},\n",
              "             pre_dispatch='2*n_jobs', refit=True, return_train_score=False,\n",
              "             scoring=None, verbose=0)"
            ]
          },
          "metadata": {
            "tags": []
          },
          "execution_count": 142
        }
      ]
    },
    {
      "cell_type": "markdown",
      "metadata": {
        "id": "Pd031SUFJt9d",
        "colab_type": "text"
      },
      "source": [
        "{'learning_rate': 0.1,\n",
        " 'max_depth': 15,\n",
        " 'n_estimators': 170,\n",
        " 'objective': 'multi:softprob'} ----- 0.816\n",
        "\n",
        "{'learning_rate': 0.12,\n",
        " 'max_depth': 19,\n",
        " 'n_estimators': 200,\n",
        " 'objective': 'multi:softprob'} ----- 0.819\n",
        "\n",
        " {'learning_rate': 0.18,\n",
        " 'max_depth': 21,\n",
        " 'n_estimators': 230,\n",
        " 'objective': 'multi:softprob'} ----- 0.821\n",
        "\n",
        " {'learning_rate': 0.18,\n",
        " 'max_depth': 20,\n",
        " 'n_estimators': 280,\n",
        " 'objective': 'multi:softprob'} ----- 0.8214\n",
        "\n"
      ]
    },
    {
      "cell_type": "code",
      "metadata": {
        "id": "d3cWnWejAWXz",
        "colab_type": "code",
        "colab": {
          "base_uri": "https://localhost:8080/",
          "height": 88
        },
        "outputId": "922d9b32-8c26-4529-d45a-ae42475f8c70"
      },
      "source": [
        "GS_XGB.best_params_"
      ],
      "execution_count": 144,
      "outputs": [
        {
          "output_type": "execute_result",
          "data": {
            "text/plain": [
              "{'booster': 'dart',\n",
              " 'learning_rate': 0.01,\n",
              " 'max_depth': 10,\n",
              " 'n_estimators': 250}"
            ]
          },
          "metadata": {
            "tags": []
          },
          "execution_count": 144
        }
      ]
    },
    {
      "cell_type": "code",
      "metadata": {
        "id": "Rd1D8JGzAWX1",
        "colab_type": "code",
        "colab": {
          "base_uri": "https://localhost:8080/",
          "height": 35
        },
        "outputId": "9c48580d-533c-41c3-cec7-9e78546dbce9"
      },
      "source": [
        "GS_XGB.best_score_"
      ],
      "execution_count": 146,
      "outputs": [
        {
          "output_type": "execute_result",
          "data": {
            "text/plain": [
              "0.8786952755018396"
            ]
          },
          "metadata": {
            "tags": []
          },
          "execution_count": 146
        }
      ]
    },
    {
      "cell_type": "code",
      "metadata": {
        "id": "Eu3VvgEWNh68",
        "colab_type": "code",
        "colab": {
          "base_uri": "https://localhost:8080/",
          "height": 177
        },
        "outputId": "c3bd78c6-8765-4a9e-f8fb-1594824c115a"
      },
      "source": [
        "print(classification_report(y_test,GS_XGB.predict(X_test)))"
      ],
      "execution_count": 147,
      "outputs": [
        {
          "output_type": "stream",
          "text": [
            "              precision    recall  f1-score   support\n",
            "\n",
            "       Adult       0.88      0.99      0.93      1049\n",
            "       Youth       0.40      0.03      0.05       147\n",
            "\n",
            "    accuracy                           0.88      1196\n",
            "   macro avg       0.64      0.51      0.49      1196\n",
            "weighted avg       0.82      0.88      0.82      1196\n",
            "\n"
          ],
          "name": "stdout"
        }
      ]
    },
    {
      "cell_type": "markdown",
      "metadata": {
        "id": "pJh0RkSl297r",
        "colab_type": "text"
      },
      "source": [
        "the classifier which we have used for predicting accent is also svm('C': 993,gamma: 2.8)"
      ]
    },
    {
      "cell_type": "code",
      "metadata": {
        "id": "H5GEQZWB3VRp",
        "colab_type": "code",
        "colab": {}
      },
      "source": [
        "labels_2 = temp_df_1.iloc[:,-3]"
      ],
      "execution_count": 227,
      "outputs": []
    },
    {
      "cell_type": "code",
      "metadata": {
        "id": "MxC9UsDw3kME",
        "colab_type": "code",
        "colab": {
          "base_uri": "https://localhost:8080/",
          "height": 70
        },
        "outputId": "fe2caab0-e98b-4361-a123-05ef9f236b12"
      },
      "source": [
        "pd.value_counts(labels_2)"
      ],
      "execution_count": 228,
      "outputs": [
        {
          "output_type": "execute_result",
          "data": {
            "text/plain": [
              "Adult    4196\n",
              "Youth     586\n",
              "Name: age_range, dtype: int64"
            ]
          },
          "metadata": {
            "tags": []
          },
          "execution_count": 228
        }
      ]
    },
    {
      "cell_type": "code",
      "metadata": {
        "id": "vKjk87RP5-0s",
        "colab_type": "code",
        "colab": {}
      },
      "source": [
        "##training model without Smoke"
      ],
      "execution_count": null,
      "outputs": []
    },
    {
      "cell_type": "code",
      "metadata": {
        "id": "E03nMCBl3upV",
        "colab_type": "code",
        "colab": {}
      },
      "source": [
        "label_2 = le.fit_transform(labels_2)"
      ],
      "execution_count": 229,
      "outputs": []
    },
    {
      "cell_type": "code",
      "metadata": {
        "id": "OoNriqGE5_oY",
        "colab_type": "code",
        "colab": {}
      },
      "source": [
        "X_train,X_test,y_train,y_test = train_test_split(scaled_temp_df_1,labels_2,stratify=labels_2)"
      ],
      "execution_count": 121,
      "outputs": []
    },
    {
      "cell_type": "code",
      "metadata": {
        "id": "LPLcFcw9-N0K",
        "colab_type": "code",
        "colab": {}
      },
      "source": [
        "param_grid_3 = {\n",
        "    'C': [1],  \n",
        "    'gamma': [1],\n",
        "    'class_weight':['balanced']\n",
        "}\n",
        " \n",
        "svc_3 = SVC(probability=True)\n",
        " "
      ],
      "execution_count": 97,
      "outputs": []
    },
    {
      "cell_type": "code",
      "metadata": {
        "id": "G3O0CE5D_SEN",
        "colab_type": "code",
        "colab": {
          "base_uri": "https://localhost:8080/",
          "height": 266
        },
        "outputId": "a2440c16-2c31-4fd9-86dc-5960f83becff"
      },
      "source": [
        "GS_3 = GridSearchCV(svc_3,param_grid_3,n_jobs=-1,verbose=True)\n",
        "GS_3.fit(X_train,y_train)"
      ],
      "execution_count": 98,
      "outputs": [
        {
          "output_type": "stream",
          "text": [
            "Fitting 5 folds for each of 1 candidates, totalling 5 fits\n"
          ],
          "name": "stdout"
        },
        {
          "output_type": "stream",
          "text": [
            "[Parallel(n_jobs=-1)]: Using backend LokyBackend with 2 concurrent workers.\n",
            "[Parallel(n_jobs=-1)]: Done   5 out of   5 | elapsed:    9.3s finished\n"
          ],
          "name": "stderr"
        },
        {
          "output_type": "execute_result",
          "data": {
            "text/plain": [
              "GridSearchCV(cv=None, error_score=nan,\n",
              "             estimator=SVC(C=1.0, break_ties=False, cache_size=200,\n",
              "                           class_weight=None, coef0=0.0,\n",
              "                           decision_function_shape='ovr', degree=3,\n",
              "                           gamma='scale', kernel='rbf', max_iter=-1,\n",
              "                           probability=True, random_state=None, shrinking=True,\n",
              "                           tol=0.001, verbose=False),\n",
              "             iid='deprecated', n_jobs=-1,\n",
              "             param_grid={'C': [1], 'class_weight': ['balanced'], 'gamma': [1]},\n",
              "             pre_dispatch='2*n_jobs', refit=True, return_train_score=False,\n",
              "             scoring=None, verbose=True)"
            ]
          },
          "metadata": {
            "tags": []
          },
          "execution_count": 98
        }
      ]
    },
    {
      "cell_type": "markdown",
      "metadata": {
        "id": "HvgQvNseCmQp",
        "colab_type": "text"
      },
      "source": [
        "{'C': 1, 'gamma': 1.5} --- 87"
      ]
    },
    {
      "cell_type": "code",
      "metadata": {
        "id": "kkaDkri0B6-V",
        "colab_type": "code",
        "colab": {
          "base_uri": "https://localhost:8080/",
          "height": 35
        },
        "outputId": "9a8cfe5f-0b0c-4334-c3ef-ca8e872dfab9"
      },
      "source": [
        "GS_3.best_params_"
      ],
      "execution_count": 83,
      "outputs": [
        {
          "output_type": "execute_result",
          "data": {
            "text/plain": [
              "{'C': 1, 'gamma': 1}"
            ]
          },
          "metadata": {
            "tags": []
          },
          "execution_count": 83
        }
      ]
    },
    {
      "cell_type": "code",
      "metadata": {
        "id": "wtXtvuyxCIRf",
        "colab_type": "code",
        "colab": {
          "base_uri": "https://localhost:8080/",
          "height": 35
        },
        "outputId": "7e95ceac-0251-4e2c-84b5-b2ee1142fd69"
      },
      "source": [
        "GS_3.best_score_"
      ],
      "execution_count": 99,
      "outputs": [
        {
          "output_type": "execute_result",
          "data": {
            "text/plain": [
              "0.7155631441746987"
            ]
          },
          "metadata": {
            "tags": []
          },
          "execution_count": 99
        }
      ]
    },
    {
      "cell_type": "code",
      "metadata": {
        "id": "OOG4W87LCOXM",
        "colab_type": "code",
        "colab": {
          "base_uri": "https://localhost:8080/",
          "height": 35
        },
        "outputId": "4e2ca169-2117-4d1f-cbed-1d1d3b4df19e"
      },
      "source": [
        "accuracy_score(y_test,GS_3.predict(X_test))"
      ],
      "execution_count": 100,
      "outputs": [
        {
          "output_type": "execute_result",
          "data": {
            "text/plain": [
              "0.7332775919732442"
            ]
          },
          "metadata": {
            "tags": []
          },
          "execution_count": 100
        }
      ]
    },
    {
      "cell_type": "code",
      "metadata": {
        "id": "ZBp6uTQ8C1Kk",
        "colab_type": "code",
        "colab": {}
      },
      "source": [
        "from sklearn.metrics import classification_report"
      ],
      "execution_count": null,
      "outputs": []
    },
    {
      "cell_type": "code",
      "metadata": {
        "id": "5xb-pDZtDDOF",
        "colab_type": "code",
        "colab": {
          "base_uri": "https://localhost:8080/",
          "height": 177
        },
        "outputId": "ae5fb15d-0583-4806-a3ee-d6be51e027ac"
      },
      "source": [
        "print(classification_report(y_test,GS_3.predict(X_test)))"
      ],
      "execution_count": 101,
      "outputs": [
        {
          "output_type": "stream",
          "text": [
            "              precision    recall  f1-score   support\n",
            "\n",
            "           0       0.91      0.78      0.84      1049\n",
            "           1       0.21      0.44      0.29       147\n",
            "\n",
            "    accuracy                           0.73      1196\n",
            "   macro avg       0.56      0.61      0.56      1196\n",
            "weighted avg       0.82      0.73      0.77      1196\n",
            "\n"
          ],
          "name": "stdout"
        }
      ]
    },
    {
      "cell_type": "code",
      "metadata": {
        "id": "STqxy4mx23LM",
        "colab_type": "code",
        "colab": {}
      },
      "source": [
        "GS_3_predict_proba= GS_3.predict_proba(X_test)[:,0]"
      ],
      "execution_count": 94,
      "outputs": []
    },
    {
      "cell_type": "code",
      "metadata": {
        "id": "NoAqSPGA3LyC",
        "colab_type": "code",
        "colab": {}
      },
      "source": [
        "fpr,tpr,threshold_GS3= roc_curve(y_test,GS_3_predict_proba)"
      ],
      "execution_count": 92,
      "outputs": []
    },
    {
      "cell_type": "code",
      "metadata": {
        "id": "-0vwF0iH2wIm",
        "colab_type": "code",
        "colab": {
          "base_uri": "https://localhost:8080/",
          "height": 924
        },
        "outputId": "afadf79f-60b4-4698-88f5-172b0889e6b1"
      },
      "source": [
        "threshold_GS3"
      ],
      "execution_count": 95,
      "outputs": [
        {
          "output_type": "execute_result",
          "data": {
            "text/plain": [
              "array([1.93861478, 0.93861478, 0.92622525, 0.92588721, 0.92335699,\n",
              "       0.92333288, 0.92197105, 0.92192269, 0.92022176, 0.92005149,\n",
              "       0.91951693, 0.91949089, 0.91776243, 0.91768806, 0.91496286,\n",
              "       0.91480941, 0.91453878, 0.91453058, 0.91380746, 0.91379315,\n",
              "       0.91324792, 0.91316358, 0.91153218, 0.91144433, 0.91049513,\n",
              "       0.91048774, 0.90884912, 0.90880787, 0.90831006, 0.90820164,\n",
              "       0.90800031, 0.90788533, 0.90773371, 0.90757513, 0.90682525,\n",
              "       0.90670419, 0.90648416, 0.90644003, 0.90569097, 0.90567109,\n",
              "       0.9051528 , 0.90504257, 0.90429008, 0.90427543, 0.90396536,\n",
              "       0.90395091, 0.90317826, 0.90317151, 0.89999897, 0.89998257,\n",
              "       0.89978266, 0.8997752 , 0.89972175, 0.89959875, 0.89912077,\n",
              "       0.89906042, 0.8970165 , 0.8969848 , 0.89697645, 0.89691944,\n",
              "       0.89551334, 0.89548684, 0.89451027, 0.89446352, 0.89431177,\n",
              "       0.89430438, 0.89355431, 0.89349607, 0.89327929, 0.89325609,\n",
              "       0.89215518, 0.8921529 , 0.89136962, 0.89128452, 0.89098316,\n",
              "       0.89092887, 0.89079761, 0.89077705, 0.89070193, 0.89067675,\n",
              "       0.89034441, 0.8903019 , 0.89018129, 0.89006566, 0.88997016,\n",
              "       0.88983523, 0.88966412, 0.88965628, 0.88820068, 0.88817624,\n",
              "       0.88788603, 0.8878217 , 0.8876604 , 0.88746528, 0.88719007,\n",
              "       0.88697607, 0.88637011, 0.88633932, 0.88568638, 0.88567699,\n",
              "       0.88522128, 0.88520041, 0.88517151, 0.88514886, 0.88471991,\n",
              "       0.88470054, 0.88460017, 0.88452734, 0.88409301, 0.8840193 ,\n",
              "       0.88381436, 0.88371637, 0.88345774, 0.88339501, 0.88315019,\n",
              "       0.88313624, 0.88282478, 0.8827699 , 0.88251463, 0.88245784,\n",
              "       0.88226882, 0.8821709 , 0.88147177, 0.88139472, 0.88075784,\n",
              "       0.88063847, 0.88054115, 0.88052072, 0.88041497, 0.88040012,\n",
              "       0.88015491, 0.88013628, 0.87967741, 0.8796461 , 0.87857827,\n",
              "       0.87855263, 0.87770358, 0.87768017, 0.87743075, 0.8773151 ,\n",
              "       0.87709207, 0.87703759, 0.87686162, 0.87681529, 0.87544267,\n",
              "       0.87543636, 0.87537626, 0.87529108, 0.87496181, 0.87485804,\n",
              "       0.87482313, 0.87479217, 0.87415577, 0.87383067, 0.8733369 ,\n",
              "       0.87288912, 0.87269751, 0.87264665, 0.87237223, 0.87200689,\n",
              "       0.87172903, 0.87168324, 0.87151473, 0.87138169, 0.87134357,\n",
              "       0.87134025, 0.86935535, 0.86921387, 0.86880452, 0.8687876 ,\n",
              "       0.86547162, 0.86536929, 0.86387102, 0.86384571, 0.86363359,\n",
              "       0.86363359, 0.86275589, 0.8626097 , 0.86196208, 0.86146883,\n",
              "       0.86002435, 0.85977857, 0.859646  , 0.85957394, 0.85930754,\n",
              "       0.85923263, 0.85850372, 0.85837144, 0.85828096, 0.85808726,\n",
              "       0.85756365, 0.8571597 , 0.85594623, 0.85543745, 0.85211798,\n",
              "       0.85153731, 0.85149987, 0.85105769, 0.85102087, 0.85096393,\n",
              "       0.84869679, 0.84829747, 0.84252386, 0.84171826, 0.83906787,\n",
              "       0.83819611, 0.83814097, 0.83789024, 0.83516912, 0.83442399,\n",
              "       0.83039171, 0.82977432, 0.82971594, 0.82954851, 0.82791581,\n",
              "       0.82683045, 0.82162189, 0.81952514, 0.81883196, 0.81646582,\n",
              "       0.81245446, 0.81054932, 0.80967879, 0.80815832, 0.80674036,\n",
              "       0.80555952, 0.80390203, 0.80251251, 0.80229938, 0.79815283,\n",
              "       0.79386933, 0.79339607, 0.79005874, 0.78579149, 0.77496205,\n",
              "       0.77337668, 0.77098879, 0.76805127, 0.76077851, 0.75536002,\n",
              "       0.7398306 , 0.72558556, 0.69828646, 0.69798676, 0.68210217,\n",
              "       0.67863288, 0.59127054, 0.53705504, 0.52388604, 0.5       ,\n",
              "       0.28508565, 0.24771843])"
            ]
          },
          "metadata": {
            "tags": []
          },
          "execution_count": 95
        }
      ]
    },
    {
      "cell_type": "code",
      "metadata": {
        "id": "vVmUkAr14cZy",
        "colab_type": "code",
        "colab": {
          "base_uri": "https://localhost:8080/",
          "height": 266
        },
        "outputId": "4a98dd50-eb45-4e16-bf63-a2c742d1a4b9"
      },
      "source": [
        "precision = []\n",
        "recall = []\n",
        "f1 = []\n",
        "for i in threshold_GS3:\n",
        "  y_pred_thresh = np.where(GS_3_predict_proba > i ,0,1)\n",
        "  precision.append(precision_score(y_test,y_pred_thresh))\n",
        "  recall.append(recall_score(y_test,y_pred_thresh))\n",
        "  f1.append(f1_score(y_test,y_pred_thresh))\n",
        "prec_recall_thresh_series = pd.concat([pd.Series(precision),pd.Series(recall),pd.Series(threshold_GS3),pd.Series(f1)],axis=1)\n",
        "prec_recall_thresh_series.columns = ['precision','recall','threshold','f1']\n",
        "print(prec_recall_thresh_series.sort_values(by='f1',ascending=False))\n",
        "\n",
        "#0.5769"
      ],
      "execution_count": 96,
      "outputs": [
        {
          "output_type": "stream",
          "text": [
            "     precision    recall  threshold        f1\n",
            "138   0.219880  0.496599   0.877431  0.304802\n",
            "137   0.218289  0.503401   0.877680  0.304527\n",
            "136   0.217647  0.503401   0.877704  0.303901\n",
            "181   0.282353  0.326531   0.859779  0.302839\n",
            "173   0.259804  0.360544   0.863846  0.301994\n",
            "..         ...       ...        ...       ...\n",
            "246   0.555556  0.034014   0.591271  0.064103\n",
            "249   0.666667  0.027211   0.500000  0.052288\n",
            "248   0.571429  0.027211   0.523886  0.051948\n",
            "250   0.500000  0.006803   0.285086  0.013423\n",
            "251   0.000000  0.000000   0.247718  0.000000\n",
            "\n",
            "[252 rows x 4 columns]\n"
          ],
          "name": "stdout"
        }
      ]
    },
    {
      "cell_type": "code",
      "metadata": {
        "id": "dBJHFwFEbJpm",
        "colab_type": "code",
        "colab": {
          "base_uri": "https://localhost:8080/",
          "height": 126
        },
        "outputId": "beffcc2d-0f27-43ac-d17b-105679507427"
      },
      "source": [
        "sm = SMOTE()\n",
        "Aug_scaled_features_GS_3,new_labels_GS_3=sm.fit_sample(scaled_temp_df_1,labels_2)\n",
        "print(pd.value_counts(new_labels_GS_3))"
      ],
      "execution_count": 230,
      "outputs": [
        {
          "output_type": "stream",
          "text": [
            "Adult    4196\n",
            "Youth    4196\n",
            "dtype: int64\n"
          ],
          "name": "stdout"
        },
        {
          "output_type": "stream",
          "text": [
            "/usr/local/lib/python3.6/dist-packages/sklearn/utils/deprecation.py:87: FutureWarning: Function safe_indexing is deprecated; safe_indexing is deprecated in version 0.22 and will be removed in version 0.24.\n",
            "  warnings.warn(msg, category=FutureWarning)\n"
          ],
          "name": "stderr"
        }
      ]
    },
    {
      "cell_type": "code",
      "metadata": {
        "id": "gkqNQH4hiOx2",
        "colab_type": "code",
        "colab": {
          "base_uri": "https://localhost:8080/",
          "height": 35
        },
        "outputId": "770d164a-7bf6-486f-d329-0c96e73cd7d1"
      },
      "source": [
        "new_labels_GS_3 = le.fit_transform(new_labels_GS_3)\n",
        "new_labels_GS_3"
      ],
      "execution_count": 231,
      "outputs": [
        {
          "output_type": "execute_result",
          "data": {
            "text/plain": [
              "array([0, 0, 0, ..., 1, 1, 1])"
            ]
          },
          "metadata": {
            "tags": []
          },
          "execution_count": 231
        }
      ]
    },
    {
      "cell_type": "code",
      "metadata": {
        "id": "-_ulY6fafsxZ",
        "colab_type": "code",
        "colab": {}
      },
      "source": [
        "X_train,X_test,y_train,y_test = train_test_split(Aug_scaled_features_GS_3,new_labels_GS_3,stratify=new_labels_GS_3)"
      ],
      "execution_count": 232,
      "outputs": []
    },
    {
      "cell_type": "code",
      "metadata": {
        "id": "SNDWx73NgAM0",
        "colab_type": "code",
        "colab": {}
      },
      "source": [
        "param_grid_4 = {\n",
        "    'C': [50],  \n",
        "    'gamma': [2],\n",
        "    \n",
        "}\n",
        " \n",
        "svc_3 = SVC()\n",
        " "
      ],
      "execution_count": 233,
      "outputs": []
    },
    {
      "cell_type": "code",
      "metadata": {
        "id": "-9U5r3z4q6Z5",
        "colab_type": "code",
        "colab": {
          "base_uri": "https://localhost:8080/",
          "height": 35
        },
        "outputId": "c093bc70-7a9c-40bb-e84b-c36fc0ae1781"
      },
      "source": [
        "y_train[0]"
      ],
      "execution_count": 234,
      "outputs": [
        {
          "output_type": "execute_result",
          "data": {
            "text/plain": [
              "1"
            ]
          },
          "metadata": {
            "tags": []
          },
          "execution_count": 234
        }
      ]
    },
    {
      "cell_type": "code",
      "metadata": {
        "id": "iV2VIhs0gXaM",
        "colab_type": "code",
        "colab": {
          "base_uri": "https://localhost:8080/",
          "height": 195
        },
        "outputId": "bc50fc28-7d86-4c19-c615-e755a83afd0a"
      },
      "source": [
        "GS_4=GridSearchCV(svc_3,param_grid_4,n_jobs=-1)\n",
        "GS_4.fit(X_train,y_train)"
      ],
      "execution_count": 235,
      "outputs": [
        {
          "output_type": "execute_result",
          "data": {
            "text/plain": [
              "GridSearchCV(cv=None, error_score=nan,\n",
              "             estimator=SVC(C=1.0, break_ties=False, cache_size=200,\n",
              "                           class_weight=None, coef0=0.0,\n",
              "                           decision_function_shape='ovr', degree=3,\n",
              "                           gamma='scale', kernel='rbf', max_iter=-1,\n",
              "                           probability=False, random_state=None, shrinking=True,\n",
              "                           tol=0.001, verbose=False),\n",
              "             iid='deprecated', n_jobs=-1, param_grid={'C': [50], 'gamma': [2]},\n",
              "             pre_dispatch='2*n_jobs', refit=True, return_train_score=False,\n",
              "             scoring=None, verbose=0)"
            ]
          },
          "metadata": {
            "tags": []
          },
          "execution_count": 235
        }
      ]
    },
    {
      "cell_type": "code",
      "metadata": {
        "id": "V-4wxnpFgstn",
        "colab_type": "code",
        "colab": {
          "base_uri": "https://localhost:8080/",
          "height": 35
        },
        "outputId": "d2ae0e05-8e39-4a78-b007-9af514810ba0"
      },
      "source": [
        "GS_4.best_params_"
      ],
      "execution_count": 236,
      "outputs": [
        {
          "output_type": "execute_result",
          "data": {
            "text/plain": [
              "{'C': 50, 'gamma': 2}"
            ]
          },
          "metadata": {
            "tags": []
          },
          "execution_count": 236
        }
      ]
    },
    {
      "cell_type": "code",
      "metadata": {
        "id": "AhJKO0QqgwMR",
        "colab_type": "code",
        "colab": {
          "base_uri": "https://localhost:8080/",
          "height": 35
        },
        "outputId": "648585b4-3a4a-495d-fb03-2740a352e41e"
      },
      "source": [
        "GS_4.best_score_"
      ],
      "execution_count": 237,
      "outputs": [
        {
          "output_type": "execute_result",
          "data": {
            "text/plain": [
              "0.912615432794847"
            ]
          },
          "metadata": {
            "tags": []
          },
          "execution_count": 237
        }
      ]
    },
    {
      "cell_type": "code",
      "metadata": {
        "id": "CRXZ5rLXgzUx",
        "colab_type": "code",
        "colab": {
          "base_uri": "https://localhost:8080/",
          "height": 177
        },
        "outputId": "51b38249-eac3-426f-c4f4-95377bc17fb4"
      },
      "source": [
        "print(classification_report(y_test,GS_4.predict(X_test)))"
      ],
      "execution_count": 238,
      "outputs": [
        {
          "output_type": "stream",
          "text": [
            "              precision    recall  f1-score   support\n",
            "\n",
            "           0       0.97      0.89      0.93      1049\n",
            "           1       0.90      0.98      0.93      1049\n",
            "\n",
            "    accuracy                           0.93      2098\n",
            "   macro avg       0.93      0.93      0.93      2098\n",
            "weighted avg       0.93      0.93      0.93      2098\n",
            "\n"
          ],
          "name": "stdout"
        }
      ]
    },
    {
      "cell_type": "code",
      "metadata": {
        "id": "6ozRlchXh-IH",
        "colab_type": "code",
        "colab": {
          "base_uri": "https://localhost:8080/",
          "height": 35
        },
        "outputId": "46ab3656-36fd-4193-b36b-4620cf22d154"
      },
      "source": [
        "roc_auc_score(y_test,GS_4.predict(X_test))"
      ],
      "execution_count": 239,
      "outputs": [
        {
          "output_type": "execute_result",
          "data": {
            "text/plain": [
              "0.9308865586272641"
            ]
          },
          "metadata": {
            "tags": []
          },
          "execution_count": 239
        }
      ]
    },
    {
      "cell_type": "code",
      "metadata": {
        "id": "HIl4h7UWiidX",
        "colab_type": "code",
        "colab": {}
      },
      "source": [
        "pickle.dump(GS_4,open('age.sav','wb'))\n"
      ],
      "execution_count": 240,
      "outputs": []
    },
    {
      "cell_type": "code",
      "metadata": {
        "id": "Q57UfyTvijEi",
        "colab_type": "code",
        "colab": {}
      },
      "source": [
        ""
      ],
      "execution_count": null,
      "outputs": []
    },
    {
      "cell_type": "code",
      "metadata": {
        "id": "L3EdCynYijlp",
        "colab_type": "code",
        "colab": {}
      },
      "source": [
        ""
      ],
      "execution_count": null,
      "outputs": []
    },
    {
      "cell_type": "code",
      "metadata": {
        "id": "HYZ6T8qYikKe",
        "colab_type": "code",
        "colab": {}
      },
      "source": [
        ""
      ],
      "execution_count": null,
      "outputs": []
    }
  ]
}